{
  "cells": [
    {
      "cell_type": "markdown",
      "metadata": {
        "id": "eOCImRwg5Om-"
      },
      "source": [
        "## Load the libraries"
      ]
    },
    {
      "cell_type": "code",
      "execution_count": null,
      "metadata": {
        "colab": {
          "base_uri": "https://localhost:8080/"
        },
        "id": "3MRqUkLYoa0h",
        "outputId": "e09fe916-ff78-4010-a3cb-23cff6f3f174"
      },
      "outputs": [
        {
          "name": "stderr",
          "output_type": "stream",
          "text": [
            "[nltk_data] Downloading package brown to /root/nltk_data...\n",
            "[nltk_data]   Unzipping corpora/brown.zip.\n",
            "[nltk_data] Downloading package punkt to /root/nltk_data...\n",
            "[nltk_data]   Unzipping tokenizers/punkt.zip.\n",
            "[nltk_data] Downloading package stopwords to /root/nltk_data...\n",
            "[nltk_data]   Unzipping corpora/stopwords.zip.\n",
            "[nltk_data] Downloading package wordnet to /root/nltk_data...\n",
            "[nltk_data] Downloading package averaged_perceptron_tagger to\n",
            "[nltk_data]     /root/nltk_data...\n",
            "[nltk_data]   Unzipping taggers/averaged_perceptron_tagger.zip.\n"
          ]
        },
        {
          "data": {
            "text/plain": [
              "True"
            ]
          },
          "execution_count": 1,
          "metadata": {},
          "output_type": "execute_result"
        }
      ],
      "source": [
        "import pandas as pd\n",
        "import numpy as np\n",
        "import matplotlib.pyplot as plt\n",
        "from collections import namedtuple\n",
        "from nltk import word_tokenize\n",
        "from functools import lru_cache\n",
        "import re\n",
        "import unicodedata\n",
        "import sys\n",
        "from collections import Counter\n",
        "import nltk\n",
        "nltk.download('brown')\n",
        "from nltk.corpus import brown\n",
        "from nltk import word_tokenize\n",
        "nltk.download('punkt')\n",
        "nltk.download('stopwords')\n",
        "nltk.download('wordnet')\n",
        "from nltk.corpus import stopwords\n",
        "from nltk import pos_tag\n",
        "nltk.download('averaged_perceptron_tagger')"
      ]
    },
    {
      "cell_type": "markdown",
      "metadata": {
        "id": "57AUXjgM4rn5"
      },
      "source": [
        "## First part: The Complex Word Identification Model:"
      ]
    },
    {
      "cell_type": "code",
      "execution_count": null,
      "metadata": {
        "id": "-Ag-5krPia3A"
      },
      "outputs": [],
      "source": [
        "Dataset = namedtuple('Dataset', 'name, train, test')\n",
        "Model = namedtuple('Model', 'type, name, dimension, corpus, model')"
      ]
    },
    {
      "cell_type": "markdown",
      "metadata": {
        "id": "qPPVep68474C"
      },
      "source": [
        "###Get the dataset to train the CWI model\n"
      ]
    },
    {
      "cell_type": "code",
      "execution_count": null,
      "metadata": {
        "colab": {
          "base_uri": "https://localhost:8080/"
        },
        "id": "Ga12AgFHiyN2",
        "outputId": "d92a4491-fb13-4d94-c2d4-b62510e1761b"
      },
      "outputs": [
        {
          "name": "stdout",
          "output_type": "stream",
          "text": [
            "--2023-11-23 08:21:32--  https://www.inf.uni-hamburg.de/en/inst/ab/lt/resources/data/complex-word-identification-dataset/cwishareddataset.zip\n",
            "Resolving www.inf.uni-hamburg.de (www.inf.uni-hamburg.de)... 134.100.36.5\n",
            "Connecting to www.inf.uni-hamburg.de (www.inf.uni-hamburg.de)|134.100.36.5|:443... connected.\n",
            "HTTP request sent, awaiting response... 200 OK\n",
            "Length: unspecified [application/zip]\n",
            "Saving to: ‘cwishareddataset.zip’\n",
            "\n",
            "cwishareddataset.zi     [      <=>           ]   1.03M   951KB/s    in 1.1s    \n",
            "\n",
            "2023-11-23 08:21:34 (951 KB/s) - ‘cwishareddataset.zip’ saved [1075894]\n",
            "\n"
          ]
        }
      ],
      "source": [
        "!wget https://www.inf.uni-hamburg.de/en/inst/ab/lt/resources/data/complex-word-identification-dataset/cwishareddataset.zip"
      ]
    },
    {
      "cell_type": "code",
      "execution_count": null,
      "metadata": {
        "colab": {
          "base_uri": "https://localhost:8080/"
        },
        "id": "upShTZSAjMVW",
        "outputId": "c28c6461-4eba-4e1b-f10c-7f42792751ff"
      },
      "outputs": [
        {
          "name": "stdout",
          "output_type": "stream",
          "text": [
            "Archive:  cwishareddataset.zip\n",
            "   creating: traindevset/\n",
            "   creating: traindevset/german/\n",
            "  inflating: traindevset/german/German_Train.tsv  \n",
            "  inflating: traindevset/german/German_Dev.tsv  \n",
            "  inflating: traindevset/README.md   \n",
            "   creating: traindevset/english/\n",
            "  inflating: traindevset/english/WikiNews_Train.tsv  \n",
            "  inflating: traindevset/english/Wikipedia_Train.tsv  \n",
            "  inflating: traindevset/english/Wikipedia_Dev.tsv  \n",
            "  inflating: traindevset/english/News_Dev.tsv  \n",
            "  inflating: traindevset/english/News_Train.tsv  \n",
            "  inflating: traindevset/english/WikiNews_Dev.tsv  \n",
            "   creating: traindevset/spanish/\n",
            "  inflating: traindevset/spanish/Spanish_Train.tsv  \n",
            "  inflating: traindevset/spanish/Spanish_Dev.tsv  \n",
            "  inflating: README.md               \n",
            "   creating: testset/\n",
            "   creating: testset/german/\n",
            "  inflating: testset/german/German_Test.tsv  \n",
            "  inflating: testset/README.md       \n",
            "   creating: testset/english/\n",
            "  inflating: testset/english/Wikipedia_Test.tsv  \n",
            "   creating: __MACOSX/\n",
            "   creating: __MACOSX/testset/\n",
            "   creating: __MACOSX/testset/english/\n",
            "  inflating: __MACOSX/testset/english/._Wikipedia_Test.tsv  \n",
            "  inflating: testset/english/WikiNews_Test.tsv  \n",
            "  inflating: testset/english/News_Test.tsv  \n",
            "   creating: testset/french/\n",
            "  inflating: testset/french/French_Test.tsv  \n",
            "   creating: testset/spanish/\n",
            "  inflating: testset/spanish/Spanish_Test.tsv  \n"
          ]
        }
      ],
      "source": [
        "!unzip cwishareddataset.zip"
      ]
    },
    {
      "cell_type": "code",
      "execution_count": null,
      "metadata": {
        "id": "sgMuNkitia3a"
      },
      "outputs": [],
      "source": [
        "pd.set_option('display.max_columns', 500)\n",
        "pd.set_option('display.max_colwidth', 200)\n",
        "MAIN_PATH_DATASET = \"traindevset/english/\"\n",
        "genres = ['Wikipedia', 'WikiNews', 'News']\n",
        "datasets = ['Train', 'Dev']\n",
        "columns = ['id', 'sentence', \"start\", \"end\", \"target\",\n",
        "           \"nat\", \"non_nat\", \"nat_marked\", \"non_nat_marked\", \"binary\", \"prob\"]\n",
        "\n",
        "\n",
        "datasets = [Dataset('Wikipedia', 'Train', 'Dev'),\n",
        "            Dataset('WikiNews', 'Train', 'Dev'),\n",
        "            Dataset('News', 'Train', 'Dev')]\n",
        "\n",
        "feature_categories = []\n",
        "\n",
        "def load_df(path):\n",
        "    df = pd.read_csv(path, header=None, sep = \"\\t\")\n",
        "    df.columns = columns\n",
        "    return df\n",
        "\n",
        "datasets = [Dataset(d.name, load_df(MAIN_PATH_DATASET + d.name + '_' + d.train + '.tsv'),\n",
        "                            load_df(MAIN_PATH_DATASET + d.name + '_' + d.test + '.tsv'))\n",
        "                            for d in datasets]"
      ]
    },
    {
      "cell_type": "markdown",
      "metadata": {
        "id": "q5ejPkqT5jmj"
      },
      "source": [
        "###Get the glove embedding"
      ]
    },
    {
      "cell_type": "code",
      "execution_count": null,
      "metadata": {
        "colab": {
          "base_uri": "https://localhost:8080/"
        },
        "id": "9qYxKCLK5gah",
        "outputId": "53a6a891-c27e-441b-f33c-c9fe1f393f1c"
      },
      "outputs": [
        {
          "name": "stdout",
          "output_type": "stream",
          "text": [
            "--2023-11-23 08:21:34--  http://nlp.stanford.edu/data/glove.6B.zip\n",
            "Resolving nlp.stanford.edu (nlp.stanford.edu)... 171.64.67.140\n",
            "Connecting to nlp.stanford.edu (nlp.stanford.edu)|171.64.67.140|:80... connected.\n",
            "HTTP request sent, awaiting response... 302 Found\n",
            "Location: https://nlp.stanford.edu/data/glove.6B.zip [following]\n",
            "--2023-11-23 08:21:35--  https://nlp.stanford.edu/data/glove.6B.zip\n",
            "Connecting to nlp.stanford.edu (nlp.stanford.edu)|171.64.67.140|:443... connected.\n",
            "HTTP request sent, awaiting response... 301 Moved Permanently\n",
            "Location: https://downloads.cs.stanford.edu/nlp/data/glove.6B.zip [following]\n",
            "--2023-11-23 08:21:35--  https://downloads.cs.stanford.edu/nlp/data/glove.6B.zip\n",
            "Resolving downloads.cs.stanford.edu (downloads.cs.stanford.edu)... 171.64.64.22\n",
            "Connecting to downloads.cs.stanford.edu (downloads.cs.stanford.edu)|171.64.64.22|:443... connected.\n",
            "HTTP request sent, awaiting response... 200 OK\n",
            "Length: 862182613 (822M) [application/zip]\n",
            "Saving to: ‘glove.6B.zip’\n",
            "\n",
            "glove.6B.zip        100%[===================>] 822.24M  5.13MB/s    in 2m 39s  \n",
            "\n",
            "2023-11-23 08:24:15 (5.16 MB/s) - ‘glove.6B.zip’ saved [862182613/862182613]\n",
            "\n"
          ]
        }
      ],
      "source": [
        "!wget http://nlp.stanford.edu/data/glove.6B.zip"
      ]
    },
    {
      "cell_type": "code",
      "execution_count": null,
      "metadata": {
        "colab": {
          "base_uri": "https://localhost:8080/"
        },
        "id": "VfUpcaeP9Y_k",
        "outputId": "f27bdb11-26b6-4fb3-e7e0-f62903c42bce"
      },
      "outputs": [
        {
          "name": "stdout",
          "output_type": "stream",
          "text": [
            "Archive:  glove.6B.zip\n",
            "  inflating: embeddings/glove.6B.50d.txt  \n",
            "  inflating: embeddings/glove.6B.100d.txt  \n",
            "  inflating: embeddings/glove.6B.200d.txt  \n",
            "  inflating: embeddings/glove.6B.300d.txt  \n"
          ]
        }
      ],
      "source": [
        "!unzip glove.6B.zip -d embeddings"
      ]
    },
    {
      "cell_type": "markdown",
      "metadata": {
        "id": "QqCBKkUQ5uo3"
      },
      "source": [
        "###Load the embedding model"
      ]
    },
    {
      "cell_type": "code",
      "execution_count": null,
      "metadata": {
        "colab": {
          "base_uri": "https://localhost:8080/"
        },
        "id": "eqljIkbiia3n",
        "outputId": "4c2a256e-5629-4017-f38a-f769cdf1c946"
      },
      "outputs": [
        {
          "name": "stderr",
          "output_type": "stream",
          "text": [
            "<ipython-input-8-0a27a5859e3f>:15: DeprecationWarning: Call to deprecated `glove2word2vec` (KeyedVectors.load_word2vec_format(.., binary=False, no_header=True) loads GLoVE text vectors.).\n",
            "  glove2word2vec(glove_file, tmp_file)\n"
          ]
        },
        {
          "name": "stdout",
          "output_type": "stream",
          "text": [
            "load model : glove.6B.300d.txt\n",
            "[Model(type='glove', name='glove.6B.300d.txt', dimension=300, corpus='wikipedia+gigaword5', model=<gensim.models.keyedvectors.KeyedVectors object at 0x7c54a185a650>)]\n"
          ]
        }
      ],
      "source": [
        "from gensim.test.utils import datapath, get_tmpfile\n",
        "from gensim.models import KeyedVectors\n",
        "from gensim.scripts.glove2word2vec import glove2word2vec\n",
        "\n",
        "MAIN_PATH = 'embeddings/'\n",
        "\n",
        "\n",
        "glove_models = []\n",
        "\n",
        "glove_defs = [ Model('glove', 'glove.6B.300d.txt', 300, 'wikipedia+gigaword5', None)]\n",
        "\n",
        "for model in glove_defs:\n",
        "    glove_file = MAIN_PATH + model.name\n",
        "    tmp_file = get_tmpfile(model.name + '-temp')\n",
        "    glove2word2vec(glove_file, tmp_file)\n",
        "    vecs = KeyedVectors.load_word2vec_format(tmp_file)\n",
        "    glove_models.append(Model(model.type, model.name, model.dimension, model.corpus, vecs))\n",
        "    print('load model : {}'.format(model.name))\n",
        "\n",
        "print(glove_models)"
      ]
    },
    {
      "cell_type": "markdown",
      "metadata": {
        "id": "3GRQVuEl6h6j"
      },
      "source": [
        "###Process the Dataset in order to formated it:"
      ]
    },
    {
      "cell_type": "code",
      "execution_count": null,
      "metadata": {
        "id": "kvG6w6C0ia33"
      },
      "outputs": [],
      "source": [
        "dataframe = datasets[0].train[0:30]\n",
        "\n",
        "def overlaps(start1, end1, start2, end2):\n",
        "    return bool(range(max(start1, start2), min(end1, end2)+1))\n",
        "\n",
        "def extract_ngrams_group(group):\n",
        "    targets = zip(group['target'].values.tolist(), group['start'].values.tolist(),\n",
        "                 group['end'].values.tolist(), group['binary'].values.tolist())\n",
        "    for word, start, end, binary in targets:\n",
        "        tokens = word.split()\n",
        "        if len(tokens)>1:\n",
        "            olap_words = [(w, b) for w, s, e, b in targets if overlaps(start, end, s, e)]\n",
        "\n",
        "\n",
        "grouped = dataframe.groupby('sentence').apply(lambda group : extract_ngrams_group(group))"
      ]
    },
    {
      "cell_type": "code",
      "execution_count": null,
      "metadata": {
        "colab": {
          "base_uri": "https://localhost:8080/"
        },
        "id": "Uu71-KwsFKbL",
        "outputId": "c348ac9f-7518-4f59-a9a2-241ccb099c88"
      },
      "outputs": [
        {
          "name": "stdout",
          "output_type": "stream",
          "text": [
            "49815\n"
          ]
        }
      ],
      "source": [
        "wordlist_lowercased = set(i.lower() for i in brown.words())\n",
        "print (len(wordlist_lowercased))"
      ]
    },
    {
      "cell_type": "markdown",
      "metadata": {
        "id": "88YYAqrY4TOZ"
      },
      "source": [
        "###Tokennization and transforming the dabase"
      ]
    },
    {
      "cell_type": "code",
      "execution_count": null,
      "metadata": {
        "id": "a1axsJ5Jia4I"
      },
      "outputs": [],
      "source": [
        "tbl = dict.fromkeys(i for i in range(sys.maxunicode)\n",
        "                      if unicodedata.category(chr(i)).startswith('P'))\n",
        "\n",
        "def remove_punctuation(text):\n",
        "    return text.translate(tbl)\n",
        "\n",
        "@lru_cache(maxsize=None)\n",
        "def all_tokens_with_index(context):\n",
        "    curr_pos = 0\n",
        "    targets = []\n",
        "    j = 0\n",
        "    w = 0\n",
        "    curr_split = ''\n",
        "    ctx_split = context.split()\n",
        "    whitespaces = re.findall('\\s+', context)\n",
        "    num_whitespaces = [len(token) for token in whitespaces]\n",
        "    num_whitespaces.append(1)\n",
        "    tokens = word_tokenize(context)\n",
        "    tokens = ['\"' if token not in context else token for token in tokens]\n",
        "    for index, token in enumerate(tokens, 1):\n",
        "        targets.append((token, index, curr_pos, (curr_pos + len(token))))\n",
        "        curr_pos += len(token)\n",
        "        curr_split += token\n",
        "        if ctx_split[j] == curr_split:\n",
        "            curr_pos += num_whitespaces[w]\n",
        "            j += 1\n",
        "            w += 1\n",
        "            curr_split = ''\n",
        "    return [val for val in targets if val[0] != '\"']\n",
        "\n",
        "def build_vocabulary(sentences, embedding_model, dimension):\n",
        "    all_words = [tpl[0] for sentence in sentences for tpl in sentence['seq']] + list(wordlist_lowercased)\n",
        "    print('# Words : {}'.format(len(all_words)))\n",
        "    counter = Counter(all_words)\n",
        "    vocab_size = len(counter) + 1\n",
        "    print('# Vocab : {}'.format(vocab_size))\n",
        "    print('# embeding model  : {}'.format(len(embedding_model.key_to_index)))\n",
        "    word2index = {word : index for index, (word, count) in enumerate(counter.most_common(), 1)}\n",
        "    index2word = {index : word for word, index in word2index.items()}\n",
        "    # +1 required for pad token\n",
        "    embedding_matrix = np.zeros(((vocab_size), dimension))\n",
        "    missing_embed_words = []\n",
        "    i_ = 0\n",
        "    for word, index in word2index.items():\n",
        "        if word in embedding_model.key_to_index:\n",
        "            embedding = embedding_model[word]\n",
        "        else:\n",
        "             i_ +=1\n",
        "             continue\n",
        "        embedding_matrix[index] = embedding\n",
        "    missing_embed_count = len(missing_embed_words)\n",
        "    print('# Words missing embedding : {}'.format(missing_embed_count))\n",
        "    print('Embedding shape : {}'.format(embedding_matrix.shape))\n",
        "    print(\"i: \", i_ )\n",
        "    return word2index, index2word, embedding_matrix\n",
        "\n",
        "def forward_transformation(dataframe, lowercase = True, filter_punc = True, filtering = \"a132\"):\n",
        "    grouped = dataframe.groupby('sentence').apply(lambda row :\n",
        "                        {'sent_id' : list(set(row['sent_id']))[0],\n",
        "                         'sentence' : list(set(row['sentence']))[0],\n",
        "                         'tags': [tag for tag in zip(row['target'],\n",
        "                            row['start'], row['end'], row['binary'], row['prob'])]})\n",
        "    sentences = []\n",
        "    for vals in grouped:\n",
        "        sent_id = vals['sent_id']\n",
        "        sentence = vals['sentence']\n",
        "        tags = vals['tags']\n",
        "        tags_without_labels = [(word, start, end) for word, start, end, binary, prob in tags]\n",
        "        all_tokens = all_tokens_with_index(sentence)\n",
        "        sent_repr = [(word, start, end, tags[tags_without_labels.index((word, start, end))][3],\n",
        "                     tags[tags_without_labels.index((word, start, end))][4])\n",
        "           if (word, start, end) in tags_without_labels\n",
        "          else (word, start, end, 0, 0.0) for word, index, start, end in all_tokens]\n",
        "        if lowercase:\n",
        "            sent_repr = [(word.lower(), start, end, binary, prob)\n",
        "                         for word, start, end, binary, prob in sent_repr]\n",
        "        if filter_punc:\n",
        "            sent_repr = list(filter(lambda vals : remove_punctuation(vals[0]), sent_repr))\n",
        "        if filtering:\n",
        "            sent_repr = list(filter(lambda vals : vals[0] != \"'s\", sent_repr))\n",
        "            sent_repr = list(filter(lambda vals : vals[0] != \"``\", sent_repr))\n",
        "        sentences.append({'sent_id' : sent_id, 'sentence' : sentence, 'seq' : sent_repr})\n",
        "    return sentences\n",
        "\n",
        "def split_sentence_seqs(sentences):\n",
        "    words, start_end, binary, prob = [], [], [] ,[]\n",
        "    for sent in sentences:\n",
        "        sequence = sent['seq']\n",
        "        curr_w, curr_se, curr_b, curr_p = map(list, zip(*[(vals[0],\n",
        "            (vals[1], vals[2]), vals[3], vals[4]) for vals in sequence]))\n",
        "        words.append(curr_w)\n",
        "        start_end.append(curr_se)\n",
        "        binary.append(curr_b)\n",
        "        prob.append(curr_p)\n",
        "    return words, start_end, binary, prob"
      ]
    },
    {
      "cell_type": "code",
      "execution_count": null,
      "metadata": {
        "colab": {
          "base_uri": "https://localhost:8080/"
        },
        "id": "XDje3oWHia4U",
        "outputId": "58574aae-982a-4567-d3f7-8bf3dac67f6c"
      },
      "outputs": [
        {
          "name": "stderr",
          "output_type": "stream",
          "text": [
            "<ipython-input-12-995e8cdc830f>:2: FutureWarning: The frame.append method is deprecated and will be removed from pandas in a future version. Use pandas.concat instead.\n",
            "  datasets[0].train.append(datasets[1].train).append(datasets[2].train), datasets[0].test))\n"
          ]
        }
      ],
      "source": [
        "datasets.append(Dataset('train_all_test_wiki',\n",
        "        datasets[0].train.append(datasets[1].train).append(datasets[2].train), datasets[0].test))"
      ]
    },
    {
      "cell_type": "code",
      "execution_count": null,
      "metadata": {
        "colab": {
          "base_uri": "https://localhost:8080/"
        },
        "id": "TZDkqP8kia4h",
        "outputId": "7513a477-0239-4a33-d40d-ea0eca0f4cd5"
      },
      "outputs": [
        {
          "name": "stdout",
          "output_type": "stream",
          "text": [
            "# Rows train : 27299\n",
            "# Rows test : 694\n",
            "# Rows dataset : 27993\n",
            "# Sents train : 1988\n",
            "# Sents test : 53\n",
            "# Sents dataset : 2041\n"
          ]
        },
        {
          "name": "stderr",
          "output_type": "stream",
          "text": [
            "<ipython-input-13-fa260ecfaaf6>:9: FutureWarning: The frame.append method is deprecated and will be removed from pandas in a future version. Use pandas.concat instead.\n",
            "  dataset = dataset_sel.train.append(dataset_sel.test)\n"
          ]
        }
      ],
      "source": [
        "# Append train and test set\n",
        "dataset_sel = datasets[3]\n",
        "train_num_rows = dataset_sel.train.shape[0]\n",
        "train_num_sents = len(list(set(dataset_sel.train.sentence.values.tolist())))\n",
        "\n",
        "test_num_rows = dataset_sel.test.shape[0]\n",
        "test_num_sents = len(list(set(dataset_sel.test.sentence.values.tolist())))\n",
        "\n",
        "dataset = dataset_sel.train.append(dataset_sel.test)\n",
        "dataset['sent_id'] = dataset.groupby('sentence').ngroup()\n",
        "dataset_num_rows = dataset.shape[0]\n",
        "dataset_num_sents = len(list(set(dataset.sentence.values.tolist())))\n",
        "\n",
        "print('# Rows train : {}'.format(train_num_rows))\n",
        "print('# Rows test : {}'.format(test_num_rows))\n",
        "print('# Rows dataset : {}'.format(dataset_num_rows))\n",
        "\n",
        "print('# Sents train : {}'.format(train_num_sents))\n",
        "print('# Sents test : {}'.format(test_num_sents))\n",
        "print('# Sents dataset : {}'.format(dataset_num_sents))"
      ]
    },
    {
      "cell_type": "markdown",
      "metadata": {
        "id": "RobjIVe3649W"
      },
      "source": [
        "###Finally the Dataset to train the model:"
      ]
    },
    {
      "cell_type": "code",
      "execution_count": null,
      "metadata": {
        "colab": {
          "base_uri": "https://localhost:8080/",
          "height": 1000
        },
        "id": "GYEiqcrybEO4",
        "outputId": "68a64f91-db19-464c-9144-ad84e5f2103f"
      },
      "outputs": [
        {
          "data": {
            "text/html": [
              "\n",
              "  <div id=\"df-dca7972e-b43a-40ba-b43c-bba1334acfae\" class=\"colab-df-container\">\n",
              "    <div>\n",
              "<style scoped>\n",
              "    .dataframe tbody tr th:only-of-type {\n",
              "        vertical-align: middle;\n",
              "    }\n",
              "\n",
              "    .dataframe tbody tr th {\n",
              "        vertical-align: top;\n",
              "    }\n",
              "\n",
              "    .dataframe thead th {\n",
              "        text-align: right;\n",
              "    }\n",
              "</style>\n",
              "<table border=\"1\" class=\"dataframe\">\n",
              "  <thead>\n",
              "    <tr style=\"text-align: right;\">\n",
              "      <th></th>\n",
              "      <th>id</th>\n",
              "      <th>sentence</th>\n",
              "      <th>start</th>\n",
              "      <th>end</th>\n",
              "      <th>target</th>\n",
              "      <th>nat</th>\n",
              "      <th>non_nat</th>\n",
              "      <th>nat_marked</th>\n",
              "      <th>non_nat_marked</th>\n",
              "      <th>binary</th>\n",
              "      <th>prob</th>\n",
              "      <th>sent_id</th>\n",
              "    </tr>\n",
              "  </thead>\n",
              "  <tbody>\n",
              "    <tr>\n",
              "      <th>0</th>\n",
              "      <td>3XU9MCX6VODXPI3L8I02CM94TFB2R7</td>\n",
              "      <td>Normally , the land will be passed down to future generations in a way that recognizes the community 's traditional connection to that country .</td>\n",
              "      <td>0</td>\n",
              "      <td>8</td>\n",
              "      <td>Normally</td>\n",
              "      <td>10</td>\n",
              "      <td>10</td>\n",
              "      <td>0</td>\n",
              "      <td>1</td>\n",
              "      <td>1</td>\n",
              "      <td>0.05</td>\n",
              "      <td>1347</td>\n",
              "    </tr>\n",
              "    <tr>\n",
              "      <th>1</th>\n",
              "      <td>3XU9MCX6VODXPI3L8I02CM94TFB2R7</td>\n",
              "      <td>Normally , the land will be passed down to future generations in a way that recognizes the community 's traditional connection to that country .</td>\n",
              "      <td>28</td>\n",
              "      <td>34</td>\n",
              "      <td>passed</td>\n",
              "      <td>10</td>\n",
              "      <td>10</td>\n",
              "      <td>0</td>\n",
              "      <td>1</td>\n",
              "      <td>1</td>\n",
              "      <td>0.05</td>\n",
              "      <td>1347</td>\n",
              "    </tr>\n",
              "    <tr>\n",
              "      <th>2</th>\n",
              "      <td>3XU9MCX6VODXPI3L8I02CM94TFB2R7</td>\n",
              "      <td>Normally , the land will be passed down to future generations in a way that recognizes the community 's traditional connection to that country .</td>\n",
              "      <td>15</td>\n",
              "      <td>19</td>\n",
              "      <td>land</td>\n",
              "      <td>10</td>\n",
              "      <td>10</td>\n",
              "      <td>0</td>\n",
              "      <td>0</td>\n",
              "      <td>0</td>\n",
              "      <td>0.00</td>\n",
              "      <td>1347</td>\n",
              "    </tr>\n",
              "    <tr>\n",
              "      <th>3</th>\n",
              "      <td>3XU9MCX6VODXPI3L8I02CM94TFB2R7</td>\n",
              "      <td>Normally , the land will be passed down to future generations in a way that recognizes the community 's traditional connection to that country .</td>\n",
              "      <td>43</td>\n",
              "      <td>49</td>\n",
              "      <td>future</td>\n",
              "      <td>10</td>\n",
              "      <td>10</td>\n",
              "      <td>1</td>\n",
              "      <td>0</td>\n",
              "      <td>1</td>\n",
              "      <td>0.05</td>\n",
              "      <td>1347</td>\n",
              "    </tr>\n",
              "    <tr>\n",
              "      <th>4</th>\n",
              "      <td>3XU9MCX6VODXPI3L8I02CM94TFB2R7</td>\n",
              "      <td>Normally , the land will be passed down to future generations in a way that recognizes the community 's traditional connection to that country .</td>\n",
              "      <td>43</td>\n",
              "      <td>61</td>\n",
              "      <td>future generations</td>\n",
              "      <td>10</td>\n",
              "      <td>10</td>\n",
              "      <td>1</td>\n",
              "      <td>2</td>\n",
              "      <td>1</td>\n",
              "      <td>0.15</td>\n",
              "      <td>1347</td>\n",
              "    </tr>\n",
              "    <tr>\n",
              "      <th>...</th>\n",
              "      <td>...</td>\n",
              "      <td>...</td>\n",
              "      <td>...</td>\n",
              "      <td>...</td>\n",
              "      <td>...</td>\n",
              "      <td>...</td>\n",
              "      <td>...</td>\n",
              "      <td>...</td>\n",
              "      <td>...</td>\n",
              "      <td>...</td>\n",
              "      <td>...</td>\n",
              "      <td>...</td>\n",
              "    </tr>\n",
              "    <tr>\n",
              "      <th>689</th>\n",
              "      <td>3W0KKJIARRAMOTSFYF06L10TKN9K8Z</td>\n",
              "      <td>Devotion ( Bhakti ) will cancel the effects of bad Karma and will bring a person closer to the true knowledge by purifying his mind .</td>\n",
              "      <td>100</td>\n",
              "      <td>109</td>\n",
              "      <td>knowledge</td>\n",
              "      <td>10</td>\n",
              "      <td>10</td>\n",
              "      <td>0</td>\n",
              "      <td>2</td>\n",
              "      <td>1</td>\n",
              "      <td>0.10</td>\n",
              "      <td>929</td>\n",
              "    </tr>\n",
              "    <tr>\n",
              "      <th>690</th>\n",
              "      <td>3W0KKJIARRAMOTSFYF06L10TKN9K8Z</td>\n",
              "      <td>Devotion ( Bhakti ) will cancel the effects of bad Karma and will bring a person closer to the true knowledge by purifying his mind .</td>\n",
              "      <td>74</td>\n",
              "      <td>80</td>\n",
              "      <td>person</td>\n",
              "      <td>10</td>\n",
              "      <td>10</td>\n",
              "      <td>0</td>\n",
              "      <td>0</td>\n",
              "      <td>0</td>\n",
              "      <td>0.00</td>\n",
              "      <td>929</td>\n",
              "    </tr>\n",
              "    <tr>\n",
              "      <th>691</th>\n",
              "      <td>3W0KKJIARRAMOTSFYF06L10TKN9K8Z</td>\n",
              "      <td>Devotion ( Bhakti ) will cancel the effects of bad Karma and will bring a person closer to the true knowledge by purifying his mind .</td>\n",
              "      <td>95</td>\n",
              "      <td>99</td>\n",
              "      <td>true</td>\n",
              "      <td>10</td>\n",
              "      <td>10</td>\n",
              "      <td>0</td>\n",
              "      <td>0</td>\n",
              "      <td>0</td>\n",
              "      <td>0.00</td>\n",
              "      <td>929</td>\n",
              "    </tr>\n",
              "    <tr>\n",
              "      <th>692</th>\n",
              "      <td>3W0KKJIARRAMOTSFYF06L10TKN9K8Z</td>\n",
              "      <td>Devotion ( Bhakti ) will cancel the effects of bad Karma and will bring a person closer to the true knowledge by purifying his mind .</td>\n",
              "      <td>113</td>\n",
              "      <td>122</td>\n",
              "      <td>purifying</td>\n",
              "      <td>10</td>\n",
              "      <td>10</td>\n",
              "      <td>7</td>\n",
              "      <td>8</td>\n",
              "      <td>1</td>\n",
              "      <td>0.75</td>\n",
              "      <td>929</td>\n",
              "    </tr>\n",
              "    <tr>\n",
              "      <th>693</th>\n",
              "      <td>3W0KKJIARRAMOTSFYF06L10TKN9K8Z</td>\n",
              "      <td>Devotion ( Bhakti ) will cancel the effects of bad Karma and will bring a person closer to the true knowledge by purifying his mind .</td>\n",
              "      <td>127</td>\n",
              "      <td>131</td>\n",
              "      <td>mind</td>\n",
              "      <td>10</td>\n",
              "      <td>10</td>\n",
              "      <td>0</td>\n",
              "      <td>1</td>\n",
              "      <td>1</td>\n",
              "      <td>0.05</td>\n",
              "      <td>929</td>\n",
              "    </tr>\n",
              "  </tbody>\n",
              "</table>\n",
              "<p>27993 rows × 12 columns</p>\n",
              "</div>\n",
              "    <div class=\"colab-df-buttons\">\n",
              "\n",
              "  <div class=\"colab-df-container\">\n",
              "    <button class=\"colab-df-convert\" onclick=\"convertToInteractive('df-dca7972e-b43a-40ba-b43c-bba1334acfae')\"\n",
              "            title=\"Convert this dataframe to an interactive table.\"\n",
              "            style=\"display:none;\">\n",
              "\n",
              "  <svg xmlns=\"http://www.w3.org/2000/svg\" height=\"24px\" viewBox=\"0 -960 960 960\">\n",
              "    <path d=\"M120-120v-720h720v720H120Zm60-500h600v-160H180v160Zm220 220h160v-160H400v160Zm0 220h160v-160H400v160ZM180-400h160v-160H180v160Zm440 0h160v-160H620v160ZM180-180h160v-160H180v160Zm440 0h160v-160H620v160Z\"/>\n",
              "  </svg>\n",
              "    </button>\n",
              "\n",
              "  <style>\n",
              "    .colab-df-container {\n",
              "      display:flex;\n",
              "      gap: 12px;\n",
              "    }\n",
              "\n",
              "    .colab-df-convert {\n",
              "      background-color: #E8F0FE;\n",
              "      border: none;\n",
              "      border-radius: 50%;\n",
              "      cursor: pointer;\n",
              "      display: none;\n",
              "      fill: #1967D2;\n",
              "      height: 32px;\n",
              "      padding: 0 0 0 0;\n",
              "      width: 32px;\n",
              "    }\n",
              "\n",
              "    .colab-df-convert:hover {\n",
              "      background-color: #E2EBFA;\n",
              "      box-shadow: 0px 1px 2px rgba(60, 64, 67, 0.3), 0px 1px 3px 1px rgba(60, 64, 67, 0.15);\n",
              "      fill: #174EA6;\n",
              "    }\n",
              "\n",
              "    .colab-df-buttons div {\n",
              "      margin-bottom: 4px;\n",
              "    }\n",
              "\n",
              "    [theme=dark] .colab-df-convert {\n",
              "      background-color: #3B4455;\n",
              "      fill: #D2E3FC;\n",
              "    }\n",
              "\n",
              "    [theme=dark] .colab-df-convert:hover {\n",
              "      background-color: #434B5C;\n",
              "      box-shadow: 0px 1px 3px 1px rgba(0, 0, 0, 0.15);\n",
              "      filter: drop-shadow(0px 1px 2px rgba(0, 0, 0, 0.3));\n",
              "      fill: #FFFFFF;\n",
              "    }\n",
              "  </style>\n",
              "\n",
              "    <script>\n",
              "      const buttonEl =\n",
              "        document.querySelector('#df-dca7972e-b43a-40ba-b43c-bba1334acfae button.colab-df-convert');\n",
              "      buttonEl.style.display =\n",
              "        google.colab.kernel.accessAllowed ? 'block' : 'none';\n",
              "\n",
              "      async function convertToInteractive(key) {\n",
              "        const element = document.querySelector('#df-dca7972e-b43a-40ba-b43c-bba1334acfae');\n",
              "        const dataTable =\n",
              "          await google.colab.kernel.invokeFunction('convertToInteractive',\n",
              "                                                    [key], {});\n",
              "        if (!dataTable) return;\n",
              "\n",
              "        const docLinkHtml = 'Like what you see? Visit the ' +\n",
              "          '<a target=\"_blank\" href=https://colab.research.google.com/notebooks/data_table.ipynb>data table notebook</a>'\n",
              "          + ' to learn more about interactive tables.';\n",
              "        element.innerHTML = '';\n",
              "        dataTable['output_type'] = 'display_data';\n",
              "        await google.colab.output.renderOutput(dataTable, element);\n",
              "        const docLink = document.createElement('div');\n",
              "        docLink.innerHTML = docLinkHtml;\n",
              "        element.appendChild(docLink);\n",
              "      }\n",
              "    </script>\n",
              "  </div>\n",
              "\n",
              "\n",
              "<div id=\"df-22fb33ae-3425-4f3c-bfb0-7faf9b53b0f5\">\n",
              "  <button class=\"colab-df-quickchart\" onclick=\"quickchart('df-22fb33ae-3425-4f3c-bfb0-7faf9b53b0f5')\"\n",
              "            title=\"Suggest charts\"\n",
              "            style=\"display:none;\">\n",
              "\n",
              "<svg xmlns=\"http://www.w3.org/2000/svg\" height=\"24px\"viewBox=\"0 0 24 24\"\n",
              "     width=\"24px\">\n",
              "    <g>\n",
              "        <path d=\"M19 3H5c-1.1 0-2 .9-2 2v14c0 1.1.9 2 2 2h14c1.1 0 2-.9 2-2V5c0-1.1-.9-2-2-2zM9 17H7v-7h2v7zm4 0h-2V7h2v10zm4 0h-2v-4h2v4z\"/>\n",
              "    </g>\n",
              "</svg>\n",
              "  </button>\n",
              "\n",
              "<style>\n",
              "  .colab-df-quickchart {\n",
              "      --bg-color: #E8F0FE;\n",
              "      --fill-color: #1967D2;\n",
              "      --hover-bg-color: #E2EBFA;\n",
              "      --hover-fill-color: #174EA6;\n",
              "      --disabled-fill-color: #AAA;\n",
              "      --disabled-bg-color: #DDD;\n",
              "  }\n",
              "\n",
              "  [theme=dark] .colab-df-quickchart {\n",
              "      --bg-color: #3B4455;\n",
              "      --fill-color: #D2E3FC;\n",
              "      --hover-bg-color: #434B5C;\n",
              "      --hover-fill-color: #FFFFFF;\n",
              "      --disabled-bg-color: #3B4455;\n",
              "      --disabled-fill-color: #666;\n",
              "  }\n",
              "\n",
              "  .colab-df-quickchart {\n",
              "    background-color: var(--bg-color);\n",
              "    border: none;\n",
              "    border-radius: 50%;\n",
              "    cursor: pointer;\n",
              "    display: none;\n",
              "    fill: var(--fill-color);\n",
              "    height: 32px;\n",
              "    padding: 0;\n",
              "    width: 32px;\n",
              "  }\n",
              "\n",
              "  .colab-df-quickchart:hover {\n",
              "    background-color: var(--hover-bg-color);\n",
              "    box-shadow: 0 1px 2px rgba(60, 64, 67, 0.3), 0 1px 3px 1px rgba(60, 64, 67, 0.15);\n",
              "    fill: var(--button-hover-fill-color);\n",
              "  }\n",
              "\n",
              "  .colab-df-quickchart-complete:disabled,\n",
              "  .colab-df-quickchart-complete:disabled:hover {\n",
              "    background-color: var(--disabled-bg-color);\n",
              "    fill: var(--disabled-fill-color);\n",
              "    box-shadow: none;\n",
              "  }\n",
              "\n",
              "  .colab-df-spinner {\n",
              "    border: 2px solid var(--fill-color);\n",
              "    border-color: transparent;\n",
              "    border-bottom-color: var(--fill-color);\n",
              "    animation:\n",
              "      spin 1s steps(1) infinite;\n",
              "  }\n",
              "\n",
              "  @keyframes spin {\n",
              "    0% {\n",
              "      border-color: transparent;\n",
              "      border-bottom-color: var(--fill-color);\n",
              "      border-left-color: var(--fill-color);\n",
              "    }\n",
              "    20% {\n",
              "      border-color: transparent;\n",
              "      border-left-color: var(--fill-color);\n",
              "      border-top-color: var(--fill-color);\n",
              "    }\n",
              "    30% {\n",
              "      border-color: transparent;\n",
              "      border-left-color: var(--fill-color);\n",
              "      border-top-color: var(--fill-color);\n",
              "      border-right-color: var(--fill-color);\n",
              "    }\n",
              "    40% {\n",
              "      border-color: transparent;\n",
              "      border-right-color: var(--fill-color);\n",
              "      border-top-color: var(--fill-color);\n",
              "    }\n",
              "    60% {\n",
              "      border-color: transparent;\n",
              "      border-right-color: var(--fill-color);\n",
              "    }\n",
              "    80% {\n",
              "      border-color: transparent;\n",
              "      border-right-color: var(--fill-color);\n",
              "      border-bottom-color: var(--fill-color);\n",
              "    }\n",
              "    90% {\n",
              "      border-color: transparent;\n",
              "      border-bottom-color: var(--fill-color);\n",
              "    }\n",
              "  }\n",
              "</style>\n",
              "\n",
              "  <script>\n",
              "    async function quickchart(key) {\n",
              "      const quickchartButtonEl =\n",
              "        document.querySelector('#' + key + ' button');\n",
              "      quickchartButtonEl.disabled = true;  // To prevent multiple clicks.\n",
              "      quickchartButtonEl.classList.add('colab-df-spinner');\n",
              "      try {\n",
              "        const charts = await google.colab.kernel.invokeFunction(\n",
              "            'suggestCharts', [key], {});\n",
              "      } catch (error) {\n",
              "        console.error('Error during call to suggestCharts:', error);\n",
              "      }\n",
              "      quickchartButtonEl.classList.remove('colab-df-spinner');\n",
              "      quickchartButtonEl.classList.add('colab-df-quickchart-complete');\n",
              "    }\n",
              "    (() => {\n",
              "      let quickchartButtonEl =\n",
              "        document.querySelector('#df-22fb33ae-3425-4f3c-bfb0-7faf9b53b0f5 button');\n",
              "      quickchartButtonEl.style.display =\n",
              "        google.colab.kernel.accessAllowed ? 'block' : 'none';\n",
              "    })();\n",
              "  </script>\n",
              "</div>\n",
              "    </div>\n",
              "  </div>\n"
            ],
            "text/plain": [
              "                                 id  \\\n",
              "0    3XU9MCX6VODXPI3L8I02CM94TFB2R7   \n",
              "1    3XU9MCX6VODXPI3L8I02CM94TFB2R7   \n",
              "2    3XU9MCX6VODXPI3L8I02CM94TFB2R7   \n",
              "3    3XU9MCX6VODXPI3L8I02CM94TFB2R7   \n",
              "4    3XU9MCX6VODXPI3L8I02CM94TFB2R7   \n",
              "..                              ...   \n",
              "689  3W0KKJIARRAMOTSFYF06L10TKN9K8Z   \n",
              "690  3W0KKJIARRAMOTSFYF06L10TKN9K8Z   \n",
              "691  3W0KKJIARRAMOTSFYF06L10TKN9K8Z   \n",
              "692  3W0KKJIARRAMOTSFYF06L10TKN9K8Z   \n",
              "693  3W0KKJIARRAMOTSFYF06L10TKN9K8Z   \n",
              "\n",
              "                                                                                                                                             sentence  \\\n",
              "0    Normally , the land will be passed down to future generations in a way that recognizes the community 's traditional connection to that country .   \n",
              "1    Normally , the land will be passed down to future generations in a way that recognizes the community 's traditional connection to that country .   \n",
              "2    Normally , the land will be passed down to future generations in a way that recognizes the community 's traditional connection to that country .   \n",
              "3    Normally , the land will be passed down to future generations in a way that recognizes the community 's traditional connection to that country .   \n",
              "4    Normally , the land will be passed down to future generations in a way that recognizes the community 's traditional connection to that country .   \n",
              "..                                                                                                                                                ...   \n",
              "689             Devotion ( Bhakti ) will cancel the effects of bad Karma and will bring a person closer to the true knowledge by purifying his mind .   \n",
              "690             Devotion ( Bhakti ) will cancel the effects of bad Karma and will bring a person closer to the true knowledge by purifying his mind .   \n",
              "691             Devotion ( Bhakti ) will cancel the effects of bad Karma and will bring a person closer to the true knowledge by purifying his mind .   \n",
              "692             Devotion ( Bhakti ) will cancel the effects of bad Karma and will bring a person closer to the true knowledge by purifying his mind .   \n",
              "693             Devotion ( Bhakti ) will cancel the effects of bad Karma and will bring a person closer to the true knowledge by purifying his mind .   \n",
              "\n",
              "     start  end              target  nat  non_nat  nat_marked  non_nat_marked  \\\n",
              "0        0    8            Normally   10       10           0               1   \n",
              "1       28   34              passed   10       10           0               1   \n",
              "2       15   19                land   10       10           0               0   \n",
              "3       43   49              future   10       10           1               0   \n",
              "4       43   61  future generations   10       10           1               2   \n",
              "..     ...  ...                 ...  ...      ...         ...             ...   \n",
              "689    100  109           knowledge   10       10           0               2   \n",
              "690     74   80              person   10       10           0               0   \n",
              "691     95   99                true   10       10           0               0   \n",
              "692    113  122           purifying   10       10           7               8   \n",
              "693    127  131                mind   10       10           0               1   \n",
              "\n",
              "     binary  prob  sent_id  \n",
              "0         1  0.05     1347  \n",
              "1         1  0.05     1347  \n",
              "2         0  0.00     1347  \n",
              "3         1  0.05     1347  \n",
              "4         1  0.15     1347  \n",
              "..      ...   ...      ...  \n",
              "689       1  0.10      929  \n",
              "690       0  0.00      929  \n",
              "691       0  0.00      929  \n",
              "692       1  0.75      929  \n",
              "693       1  0.05      929  \n",
              "\n",
              "[27993 rows x 12 columns]"
            ]
          },
          "execution_count": 14,
          "metadata": {},
          "output_type": "execute_result"
        }
      ],
      "source": [
        "dataset"
      ]
    },
    {
      "cell_type": "code",
      "execution_count": null,
      "metadata": {
        "id": "MplXgHaiia40"
      },
      "outputs": [],
      "source": [
        "sentences = forward_transformation(dataset)\n",
        "train_sentences = sentences[:train_num_sents]\n",
        "test_sentences = sentences[train_num_sents:]"
      ]
    },
    {
      "cell_type": "code",
      "execution_count": null,
      "metadata": {
        "id": "u99Mj7Xcia5L"
      },
      "outputs": [],
      "source": [
        "words, start_end, binary, prob = split_sentence_seqs(sentences)"
      ]
    },
    {
      "cell_type": "code",
      "execution_count": null,
      "metadata": {
        "id": "RtMawZoJia5W"
      },
      "outputs": [],
      "source": [
        "sentence_lens = [len(sent) for sent in words]"
      ]
    },
    {
      "cell_type": "markdown",
      "metadata": {
        "id": "PuhY0kB07BRo"
      },
      "source": [
        "###The dimensions of the embedding and vectors for the model:"
      ]
    },
    {
      "cell_type": "code",
      "execution_count": null,
      "metadata": {
        "colab": {
          "base_uri": "https://localhost:8080/"
        },
        "id": "Dw2BjkUGia6B",
        "outputId": "ab15079b-a2fe-4e25-be22-5abdf77db49c"
      },
      "outputs": [
        {
          "name": "stdout",
          "output_type": "stream",
          "text": [
            "# Words : 96437\n",
            "# Vocab : 52455\n",
            "# embeding model  : 400000\n",
            "# Words missing embedding : 0\n",
            "Embedding shape : (52455, 300)\n",
            "i:  9834\n"
          ]
        }
      ],
      "source": [
        "embedding_model = glove_models[0].model\n",
        "dimension = embedding_model.vector_size\n",
        "word2index, index2word, embedding = build_vocabulary(sentences, embedding_model, dimension)"
      ]
    },
    {
      "cell_type": "markdown",
      "metadata": {
        "id": "ZwQAks4z76Bk"
      },
      "source": [
        "## Padding the input sequences and get the binaries labels"
      ]
    },
    {
      "cell_type": "code",
      "execution_count": null,
      "metadata": {
        "colab": {
          "base_uri": "https://localhost:8080/"
        },
        "id": "jTBmTLM_ia6b",
        "outputId": "9fa200b7-2fad-40cc-dd81-ec105c6ecb5b"
      },
      "outputs": [
        {
          "name": "stdout",
          "output_type": "stream",
          "text": [
            "Max length sentence : 103\n"
          ]
        }
      ],
      "source": [
        "\n",
        "words_with_indices = [[word2index[word] for word in sent] for sent in words]\n",
        "sent_lens = [len(sentence['seq']) for sentence in sentences]\n",
        "sent_max_length = np.max(sent_lens)\n",
        "print('Max length sentence : {}'.format(sent_max_length))\n",
        "\n",
        "from keras.preprocessing.sequence import pad_sequences\n",
        "from keras.utils import to_categorical\n",
        "\n",
        "words_padded = pad_sequences(maxlen=sent_max_length, sequences=words_with_indices, padding=\"post\", value=0)\n",
        "binary_padded = pad_sequences(maxlen=sent_max_length, sequences=binary, padding=\"post\", value=0)\n",
        "prob_padded = pad_sequences(maxlen=sent_max_length, sequences=prob, padding=\"post\", value=0, dtype=\"float\")\n",
        "\n",
        "binary_padded_categorical = [to_categorical(clazz, num_classes=2) for clazz in binary_padded]"
      ]
    },
    {
      "cell_type": "markdown",
      "metadata": {
        "id": "4BZhRBLd70kZ"
      },
      "source": [
        "# Split the to train and test set\n"
      ]
    },
    {
      "cell_type": "code",
      "execution_count": null,
      "metadata": {
        "colab": {
          "base_uri": "https://localhost:8080/"
        },
        "id": "oN1hQu-Zia6m",
        "outputId": "260b0bfc-b147-4801-9692-f6f531256185"
      },
      "outputs": [
        {
          "name": "stdout",
          "output_type": "stream",
          "text": [
            "Training set length : 1988\n",
            "Test set length : 53\n"
          ]
        }
      ],
      "source": [
        "\n",
        "# (1) Training set\n",
        "train_words_padded = words_padded[:train_num_sents]\n",
        "train_binary_padded = binary_padded[:train_num_sents]\n",
        "train_binary_padded_categorical = binary_padded_categorical[:train_num_sents]\n",
        "train_prob_padded = prob_padded[:train_num_sents]\n",
        "train_start_end = start_end[:train_num_sents]\n",
        "\n",
        "# (2) Test set\n",
        "test_words_padded = words_padded[train_num_sents:]\n",
        "test_binary_padded = binary_padded[train_num_sents:]\n",
        "test_binary_padded_categorical = binary_padded_categorical[train_num_sents:]\n",
        "test_prob_padded = prob_padded[train_num_sents:]\n",
        "test_start_end = start_end[train_num_sents:]\n",
        "\n",
        "print('Training set length : {}'.format(len(train_words_padded)))\n",
        "print('Test set length : {}'.format(len(test_words_padded)))"
      ]
    },
    {
      "cell_type": "markdown",
      "metadata": {
        "id": "J4bac9cJ8VRl"
      },
      "source": [
        "## Create a kera's callback to validate the model on train"
      ]
    },
    {
      "cell_type": "code",
      "execution_count": null,
      "metadata": {
        "id": "xkS5oYETia61"
      },
      "outputs": [],
      "source": [
        "from sklearn.metrics import f1_score\n",
        "import keras.callbacks\n",
        "from keras import backend as K\n",
        "class Metrics(keras.callbacks.Callback):\n",
        "    def __init__(self, validation_data):\n",
        "        self.f1_scores = []\n",
        "        self.validation_data = validation_data\n",
        "\n",
        "    def on_epoch_end(self, batch, logs={}):\n",
        "        predict = np.asarray(self.model.predict(self.validation_data[0]))\n",
        "        targ = self.validation_data[1]\n",
        "        targ = np.array(targ)\n",
        "        shape = targ.shape\n",
        "        targ = targ.reshape((shape[0]*shape[1], shape[2]))\n",
        "        targ = np.argmax(targ, axis = 1)\n",
        "        predict = predict.reshape((shape[0]*shape[1]), shape[2])\n",
        "        predict = np.argmax(predict, axis = 1)\n",
        "        self.f1s=f1_score(targ, predict)\n",
        "        print(\"\\nF1 Score:\")\n",
        "        print(f1_score(targ, np.ones(shape[0]*shape[1])))\n",
        "        self.f1_scores.append(self.f1s)\n",
        "        return"
      ]
    },
    {
      "cell_type": "markdown",
      "metadata": {
        "id": "dj66fbej8nZc"
      },
      "source": [
        "## Create the keras model for the Complex Word Identification task"
      ]
    },
    {
      "cell_type": "code",
      "execution_count": null,
      "metadata": {
        "colab": {
          "base_uri": "https://localhost:8080/"
        },
        "id": "4vNLhlSOia7P",
        "outputId": "5945bb50-108e-4d2b-d64c-58d71157c641"
      },
      "outputs": [
        {
          "name": "stdout",
          "output_type": "stream",
          "text": [
            "Model: \"model\"\n",
            "_________________________________________________________________\n",
            " Layer (type)                Output Shape              Param #   \n",
            "=================================================================\n",
            " input_1 (InputLayer)        [(None, 103)]             0         \n",
            "                                                                 \n",
            " embedding (Embedding)       (None, 103, 300)          15736500  \n",
            "                                                                 \n",
            " dropout (Dropout)           (None, 103, 300)          0         \n",
            "                                                                 \n",
            " bidirectional (Bidirection  (None, 103, 300)          541200    \n",
            " al)                                                             \n",
            "                                                                 \n",
            " time_distributed (TimeDist  (None, 103, 2)            602       \n",
            " ributed)                                                        \n",
            "                                                                 \n",
            "=================================================================\n",
            "Total params: 16278302 (62.10 MB)\n",
            "Trainable params: 16278302 (62.10 MB)\n",
            "Non-trainable params: 0 (0.00 Byte)\n",
            "_________________________________________________________________\n"
          ]
        }
      ],
      "source": [
        "from keras.models import Model\n",
        "from tensorflow.keras.layers import Input\n",
        "from keras import backend as K\n",
        "from keras.layers import LSTM, Embedding, Dense, TimeDistributed, Dropout, Bidirectional\n",
        "\n",
        "vocab_size = embedding.shape[0]\n",
        "dimension = embedding.shape[1]\n",
        "\n",
        "np.set_printoptions(threshold=np.inf)\n",
        "\n",
        "in_seq = Input(shape=(sent_max_length,))\n",
        "embed = Embedding(input_dim=vocab_size, output_dim=dimension, \\\n",
        "                  weights=[embedding], input_length=sent_max_length)(in_seq)\n",
        "drop = Dropout(0.1)(embed)\n",
        "lstm = Bidirectional(LSTM(units=150, return_sequences=True, recurrent_dropout=0.1))(drop)\n",
        "out = TimeDistributed(Dense(2, activation=\"softmax\"))(lstm)\n",
        "\n",
        "model = Model(in_seq, out)\n",
        "\n",
        "model.compile(optimizer=\"adam\", loss='categorical_crossentropy', metrics=[\"accuracy\"])\n",
        "model.summary()\n",
        "\n",
        "metrics = Metrics((test_words_padded, np.array(test_binary_padded_categorical)))\n"
      ]
    },
    {
      "cell_type": "markdown",
      "metadata": {
        "id": "5_otFVjW8y6q"
      },
      "source": [
        "###And Train it:"
      ]
    },
    {
      "cell_type": "code",
      "execution_count": null,
      "metadata": {
        "colab": {
          "base_uri": "https://localhost:8080/"
        },
        "id": "UrkzrTixia7e",
        "outputId": "6a7ab819-7906-4625-a8e3-12a63ecb750f"
      },
      "outputs": [
        {
          "name": "stdout",
          "output_type": "stream",
          "text": [
            "Epoch 1/3\n",
            "2/2 [==============================] - 1s 112ms/step\n",
            "\n",
            "F1 Score:\n",
            "0.05660377358490566\n",
            "199/199 [==============================] - 211s 1s/step - loss: 0.0888 - accuracy: 0.9680 - val_loss: 0.0473 - val_accuracy: 0.9802\n",
            "Epoch 2/3\n",
            "2/2 [==============================] - 0s 108ms/step\n",
            "\n",
            "F1 Score:\n",
            "0.05660377358490566\n",
            "199/199 [==============================] - 198s 994ms/step - loss: 0.0400 - accuracy: 0.9830 - val_loss: 0.0426 - val_accuracy: 0.9811\n",
            "Epoch 3/3\n",
            "2/2 [==============================] - 0s 116ms/step\n",
            "\n",
            "F1 Score:\n",
            "0.05660377358490566\n",
            "199/199 [==============================] - 198s 995ms/step - loss: 0.0299 - accuracy: 0.9873 - val_loss: 0.0454 - val_accuracy: 0.9819\n"
          ]
        }
      ],
      "source": [
        "history = model.fit(train_words_padded, np.array(train_binary_padded_categorical), batch_size=10,\n",
        "                    epochs=3, validation_data = (test_words_padded, np.array(test_binary_padded_categorical)),\n",
        "                    verbose=1, callbacks=[metrics])"
      ]
    },
    {
      "cell_type": "markdown",
      "metadata": {
        "id": "WEEbSlhi9DgR"
      },
      "source": [
        "###Now let´s plot some chart to see the model performance:"
      ]
    },
    {
      "cell_type": "code",
      "execution_count": null,
      "metadata": {
        "id": "x7RJGF8rMQoe"
      },
      "outputs": [],
      "source": [
        "plt.plot(history.history['loss'])\n",
        "plt.plot(history.history['val_loss'])\n",
        "plt.title('model loss')\n",
        "plt.ylabel('loss')\n",
        "plt.xlabel('epoch')\n",
        "plt.legend(['train', 'validation'], loc='upper left')\n",
        "plt.show()"
      ]
    },
    {
      "cell_type": "markdown",
      "metadata": {
        "id": "mnrEnuuA2lAe"
      },
      "source": [
        "###The F1 Score"
      ]
    },
    {
      "cell_type": "code",
      "execution_count": null,
      "metadata": {
        "id": "4x3xLps3ia7o"
      },
      "outputs": [],
      "source": [
        "import seaborn as sns\n",
        "sns.set_style(\"darkgrid\")\n",
        "epoch_f1s = plt.plot(metrics.f1_scores)\n",
        "plt.show()"
      ]
    },
    {
      "cell_type": "markdown",
      "metadata": {
        "id": "BPBh94CV9L6P"
      },
      "source": [
        "## Optional, if you want to save the trained CWI model into your gdrive"
      ]
    },
    {
      "cell_type": "code",
      "execution_count": null,
      "metadata": {
        "id": "DKf8dSMzuqwA"
      },
      "outputs": [],
      "source": [
        "from google.colab import drive\n",
        "drive.mount('/content/gdrive')"
      ]
    },
    {
      "cell_type": "code",
      "execution_count": null,
      "metadata": {
        "id": "6PuNmJecws4T"
      },
      "outputs": [],
      "source": [
        "model_save_name = 'model_CWI_full.h5'\n",
        "path_dir = F\"/content/gdrive/My Drive/{model_save_name}\""
      ]
    },
    {
      "cell_type": "markdown",
      "metadata": {
        "id": "YTnoFxbiuv_I"
      },
      "source": [
        "###Save the model to google drive"
      ]
    },
    {
      "cell_type": "code",
      "execution_count": null,
      "metadata": {
        "id": "uJTyD4Qcwidq",
        "colab": {
          "base_uri": "https://localhost:8080/"
        },
        "outputId": "b49e3bb5-5c1f-4128-b829-2a345dbdebd0"
      },
      "outputs": [
        {
          "output_type": "stream",
          "name": "stderr",
          "text": [
            "/usr/local/lib/python3.10/dist-packages/keras/src/engine/training.py:3079: UserWarning: You are saving your model as an HDF5 file via `model.save()`. This file format is considered legacy. We recommend using instead the native Keras format, e.g. `model.save('my_model.keras')`.\n",
            "  saving_api.save_model(\n"
          ]
        }
      ],
      "source": [
        "from keras.models import load_model\n",
        "\n",
        "model.save(path_dir)  # creates a HDF5 file 'model_CWI_full.h5'"
      ]
    },
    {
      "cell_type": "markdown",
      "metadata": {
        "id": "IPnvDOhLunjF"
      },
      "source": [
        "###Retrieve the model from google drive (if decide to save it)"
      ]
    },
    {
      "cell_type": "code",
      "execution_count": null,
      "metadata": {
        "id": "QUGNP3AWzCnM"
      },
      "outputs": [],
      "source": [
        "from keras.models import load_model\n",
        "\n",
        "model_cwi = load_model(path_dir)"
      ]
    },
    {
      "cell_type": "markdown",
      "metadata": {
        "id": "OXGGPCyr_My8"
      },
      "source": [
        "## Now, let´s define some useful functions in order to use the CWI with some out of samples sentences"
      ]
    },
    {
      "cell_type": "markdown",
      "metadata": {
        "id": "xnlnwjm8_9pf"
      },
      "source": [
        "###Function for clean the data and remove non characters symbols"
      ]
    },
    {
      "cell_type": "code",
      "execution_count": null,
      "metadata": {
        "id": "x3JMwj_HxKgl"
      },
      "outputs": [],
      "source": [
        "stop_words_ = set(stopwords.words('english'))\n",
        "def cleaner(word):\n",
        "  #Remove links\n",
        "  word = re.sub(r'((http|https)\\:\\/\\/)?[a-zA-Z0-9\\.\\/\\?\\:@\\-_=#]+\\.([a-zA-Z]){2,6}([a-zA-Z0-9\\.\\&\\/\\?\\:@\\-_=#])*',\n",
        "                '', word, flags=re.MULTILINE)\n",
        "  word = re.sub('[\\W]', ' ', word)\n",
        "  word = re.sub('[^a-zA-Z]', ' ', word)\n",
        "  return word.lower().strip()"
      ]
    },
    {
      "cell_type": "markdown",
      "metadata": {
        "id": "3Of08s9-AQ_R"
      },
      "source": [
        "###Function for to create the padded sequence"
      ]
    },
    {
      "cell_type": "code",
      "execution_count": null,
      "metadata": {
        "id": "c4QlGcVup70D"
      },
      "outputs": [],
      "source": [
        "\n",
        "def process_input(input_text):\n",
        "  input_text = cleaner(input_text)\n",
        "  clean_text = []\n",
        "  index_list =[]\n",
        "  input_token = []\n",
        "  index_list_zipf = []\n",
        "  for i, word in enumerate(input_text.split()):\n",
        "    if word in word2index:\n",
        "      clean_text.append(word)\n",
        "      input_token.append(word2index[word])\n",
        "    else:\n",
        "      index_list.append(i)\n",
        "  input_padded = pad_sequences(maxlen=sent_max_length, sequences=[input_token], padding=\"post\", value=0)\n",
        "  return input_padded, index_list, len(clean_text)\n"
      ]
    },
    {
      "cell_type": "code",
      "execution_count": null,
      "metadata": {
        "id": "B56mqE5V_n2s"
      },
      "outputs": [],
      "source": [
        "def complete_missing_word(pred_binary, index_list, len_list):\n",
        "  list_cwi_predictions = list(pred_binary[0][:len_list])\n",
        "  for i in index_list:\n",
        "    list_cwi_predictions.insert(i, 0)\n",
        "  return list_cwi_predictions\n"
      ]
    },
    {
      "cell_type": "markdown",
      "metadata": {
        "id": "1QUAPHk7qVhT"
      },
      "source": [
        "# Second part: The Candidates generation and selection using BERT"
      ]
    },
    {
      "cell_type": "markdown",
      "metadata": {
        "id": "WtOZMEJRR1kP"
      },
      "source": [
        "###First, install the libraries"
      ]
    },
    {
      "cell_type": "code",
      "execution_count": null,
      "metadata": {
        "id": "UVYx5gVerXCF",
        "colab": {
          "base_uri": "https://localhost:8080/"
        },
        "outputId": "8d13543e-d9f9-43b6-d749-9e29bae7df85"
      },
      "outputs": [
        {
          "output_type": "stream",
          "name": "stdout",
          "text": [
            "Requirement already satisfied: transformers in /usr/local/lib/python3.10/dist-packages (4.35.2)\n",
            "Requirement already satisfied: filelock in /usr/local/lib/python3.10/dist-packages (from transformers) (3.13.1)\n",
            "Requirement already satisfied: huggingface-hub<1.0,>=0.16.4 in /usr/local/lib/python3.10/dist-packages (from transformers) (0.19.4)\n",
            "Requirement already satisfied: numpy>=1.17 in /usr/local/lib/python3.10/dist-packages (from transformers) (1.23.5)\n",
            "Requirement already satisfied: packaging>=20.0 in /usr/local/lib/python3.10/dist-packages (from transformers) (23.2)\n",
            "Requirement already satisfied: pyyaml>=5.1 in /usr/local/lib/python3.10/dist-packages (from transformers) (6.0.1)\n",
            "Requirement already satisfied: regex!=2019.12.17 in /usr/local/lib/python3.10/dist-packages (from transformers) (2023.6.3)\n",
            "Requirement already satisfied: requests in /usr/local/lib/python3.10/dist-packages (from transformers) (2.31.0)\n",
            "Requirement already satisfied: tokenizers<0.19,>=0.14 in /usr/local/lib/python3.10/dist-packages (from transformers) (0.15.0)\n",
            "Requirement already satisfied: safetensors>=0.3.1 in /usr/local/lib/python3.10/dist-packages (from transformers) (0.4.0)\n",
            "Requirement already satisfied: tqdm>=4.27 in /usr/local/lib/python3.10/dist-packages (from transformers) (4.66.1)\n",
            "Requirement already satisfied: fsspec>=2023.5.0 in /usr/local/lib/python3.10/dist-packages (from huggingface-hub<1.0,>=0.16.4->transformers) (2023.6.0)\n",
            "Requirement already satisfied: typing-extensions>=3.7.4.3 in /usr/local/lib/python3.10/dist-packages (from huggingface-hub<1.0,>=0.16.4->transformers) (4.5.0)\n",
            "Requirement already satisfied: charset-normalizer<4,>=2 in /usr/local/lib/python3.10/dist-packages (from requests->transformers) (3.3.2)\n",
            "Requirement already satisfied: idna<4,>=2.5 in /usr/local/lib/python3.10/dist-packages (from requests->transformers) (3.4)\n",
            "Requirement already satisfied: urllib3<3,>=1.21.1 in /usr/local/lib/python3.10/dist-packages (from requests->transformers) (2.0.7)\n",
            "Requirement already satisfied: certifi>=2017.4.17 in /usr/local/lib/python3.10/dist-packages (from requests->transformers) (2023.7.22)\n",
            "Requirement already satisfied: torch in /usr/local/lib/python3.10/dist-packages (2.1.0+cu118)\n",
            "Requirement already satisfied: filelock in /usr/local/lib/python3.10/dist-packages (from torch) (3.13.1)\n",
            "Requirement already satisfied: typing-extensions in /usr/local/lib/python3.10/dist-packages (from torch) (4.5.0)\n",
            "Requirement already satisfied: sympy in /usr/local/lib/python3.10/dist-packages (from torch) (1.12)\n",
            "Requirement already satisfied: networkx in /usr/local/lib/python3.10/dist-packages (from torch) (3.2.1)\n",
            "Requirement already satisfied: jinja2 in /usr/local/lib/python3.10/dist-packages (from torch) (3.1.2)\n",
            "Requirement already satisfied: fsspec in /usr/local/lib/python3.10/dist-packages (from torch) (2023.6.0)\n",
            "Requirement already satisfied: triton==2.1.0 in /usr/local/lib/python3.10/dist-packages (from torch) (2.1.0)\n",
            "Requirement already satisfied: MarkupSafe>=2.0 in /usr/local/lib/python3.10/dist-packages (from jinja2->torch) (2.1.3)\n",
            "Requirement already satisfied: mpmath>=0.19 in /usr/local/lib/python3.10/dist-packages (from sympy->torch) (1.3.0)\n"
          ]
        }
      ],
      "source": [
        "!pip install transformers\n",
        "!pip install torch"
      ]
    },
    {
      "cell_type": "markdown",
      "metadata": {
        "id": "Mdl8mdOavews"
      },
      "source": [
        "###Load the BERT  model for masked languge"
      ]
    },
    {
      "cell_type": "code",
      "execution_count": null,
      "metadata": {
        "id": "-dtRGV68II0q",
        "colab": {
          "base_uri": "https://localhost:8080/",
          "height": 1000,
          "referenced_widgets": [
            "ea52996dc40744e69a400603919790ea",
            "e6f742fa75da4e66a7ac772f67fb9622",
            "75a47f17893d4653bf68ba727140cdec",
            "0a17c2cf972b471f847ad5ba2f45e55c",
            "9415ecdb22774e7f8cc1354cd9d8e0f7",
            "5ce6a4bfa97249f8b72667e4f55e119b",
            "c8e9b68c1acb4e9fb4b570e0c540d476",
            "7fb0b10d324c4fa7ae314daa5602132a",
            "415a343fbcd14dad9e9292cf9744913b",
            "59212d4d0d7146a1bb58c9a8501b3dce",
            "f94ff5e3339a4d2ab470b9633501adf8",
            "4421af27b2c440b59149db5f977557c9",
            "dcb77398bf144323a91461d6527661e2",
            "2bc8e26268154354af0fd4195b48acd9",
            "34bb287e830e41eb8f8e1339f8601345",
            "981fd03dab3a4f0292200946aafdc6ba",
            "6bfa5e29041347dda63c34225fae759c",
            "078ebf2c810242988054a733fbdc5214",
            "4d5331b877d04345b33ee63c9e40543c",
            "a869719277a44a5bbe0e38435c68dd73",
            "c9cf61a783b34236bd9c2a32c5a24376",
            "4935689473c34581be46ebcca04832c0",
            "233e9d6a3a804580b7fb1e73f4b0cca0",
            "611332c73c4f47cdb245bc10be0b76ac",
            "9dff2ac12e014777a6f22e1f2e0ea729",
            "e6024338286144ce8b12b3afb91440c4",
            "2d12b105476b4b9cafcb86a194263785",
            "8eebb78e91dc444db81414648bbcad41",
            "5abed339b88341fda1d1527fe7f63c3d",
            "0611e2fae98840bf9580a6c4322fbde4",
            "6720c39bda6141c58b7c6294f9b7dd5b",
            "7378d28ffe994b1f9c5c9bb52a6d9317",
            "49295b520b864c1fa574e437b21691a2",
            "ae45b79eb41a4248a098a2ffe54097fe",
            "87231f4928fd4292917554facbe98769",
            "fab723a5b57249a79b725304676431b2",
            "4587618b259d412687c0c0426420536a",
            "0edd6c4f1f73497398941dcf326e40b5",
            "a29e05247314467794c6cafdf1b5458a",
            "a715b881299e4d51858fd64312a83d78",
            "8587efc2da144194b398982c752f909c",
            "be659cfa0019443bb7c1719a3b39646b",
            "decd216f86d144b89a63b2e8e03ffa3d",
            "7df7f0d93cb94273a5cb6e8c77effb14",
            "2364250b4c8d41a69e8357385ac282f0",
            "768738c0a2bb4c92b8e3c01655ab5f58",
            "444659bb3bf34228b238d8dddeb2db84",
            "d162c350a596446f93efafef74afb07a",
            "4709f269843c4e04a71292f16ced5f4e",
            "6b3181141ecf4929859da8370e91a31c",
            "127d25996967417abee5b602c9419bc5",
            "d7c29783af7343b2afc75ec615689ed5",
            "b5bd2ee42d174fada5c9be06da4bbe80",
            "ed0f625db8fc44d1b29866c3cc49a85b",
            "d20fec2ccbad4efd98346aa5b3dd810a"
          ]
        },
        "outputId": "add0f068-c990-4269-cbed-d5a0e15edf04"
      },
      "outputs": [
        {
          "output_type": "display_data",
          "data": {
            "text/plain": [
              "tokenizer_config.json:   0%|          | 0.00/28.0 [00:00<?, ?B/s]"
            ],
            "application/vnd.jupyter.widget-view+json": {
              "version_major": 2,
              "version_minor": 0,
              "model_id": "ea52996dc40744e69a400603919790ea"
            }
          },
          "metadata": {}
        },
        {
          "output_type": "display_data",
          "data": {
            "text/plain": [
              "vocab.txt:   0%|          | 0.00/232k [00:00<?, ?B/s]"
            ],
            "application/vnd.jupyter.widget-view+json": {
              "version_major": 2,
              "version_minor": 0,
              "model_id": "4421af27b2c440b59149db5f977557c9"
            }
          },
          "metadata": {}
        },
        {
          "output_type": "display_data",
          "data": {
            "text/plain": [
              "tokenizer.json:   0%|          | 0.00/466k [00:00<?, ?B/s]"
            ],
            "application/vnd.jupyter.widget-view+json": {
              "version_major": 2,
              "version_minor": 0,
              "model_id": "233e9d6a3a804580b7fb1e73f4b0cca0"
            }
          },
          "metadata": {}
        },
        {
          "output_type": "display_data",
          "data": {
            "text/plain": [
              "config.json:   0%|          | 0.00/571 [00:00<?, ?B/s]"
            ],
            "application/vnd.jupyter.widget-view+json": {
              "version_major": 2,
              "version_minor": 0,
              "model_id": "ae45b79eb41a4248a098a2ffe54097fe"
            }
          },
          "metadata": {}
        },
        {
          "output_type": "display_data",
          "data": {
            "text/plain": [
              "model.safetensors:   0%|          | 0.00/1.34G [00:00<?, ?B/s]"
            ],
            "application/vnd.jupyter.widget-view+json": {
              "version_major": 2,
              "version_minor": 0,
              "model_id": "2364250b4c8d41a69e8357385ac282f0"
            }
          },
          "metadata": {}
        },
        {
          "output_type": "stream",
          "name": "stderr",
          "text": [
            "Some weights of the model checkpoint at bert-large-uncased were not used when initializing BertForMaskedLM: ['cls.seq_relationship.weight', 'bert.pooler.dense.weight', 'cls.seq_relationship.bias', 'bert.pooler.dense.bias']\n",
            "- This IS expected if you are initializing BertForMaskedLM from the checkpoint of a model trained on another task or with another architecture (e.g. initializing a BertForSequenceClassification model from a BertForPreTraining model).\n",
            "- This IS NOT expected if you are initializing BertForMaskedLM from the checkpoint of a model that you expect to be exactly identical (initializing a BertForSequenceClassification model from a BertForSequenceClassification model).\n"
          ]
        },
        {
          "output_type": "execute_result",
          "data": {
            "text/plain": [
              "BertForMaskedLM(\n",
              "  (bert): BertModel(\n",
              "    (embeddings): BertEmbeddings(\n",
              "      (word_embeddings): Embedding(30522, 1024, padding_idx=0)\n",
              "      (position_embeddings): Embedding(512, 1024)\n",
              "      (token_type_embeddings): Embedding(2, 1024)\n",
              "      (LayerNorm): LayerNorm((1024,), eps=1e-12, elementwise_affine=True)\n",
              "      (dropout): Dropout(p=0.1, inplace=False)\n",
              "    )\n",
              "    (encoder): BertEncoder(\n",
              "      (layer): ModuleList(\n",
              "        (0-23): 24 x BertLayer(\n",
              "          (attention): BertAttention(\n",
              "            (self): BertSelfAttention(\n",
              "              (query): Linear(in_features=1024, out_features=1024, bias=True)\n",
              "              (key): Linear(in_features=1024, out_features=1024, bias=True)\n",
              "              (value): Linear(in_features=1024, out_features=1024, bias=True)\n",
              "              (dropout): Dropout(p=0.1, inplace=False)\n",
              "            )\n",
              "            (output): BertSelfOutput(\n",
              "              (dense): Linear(in_features=1024, out_features=1024, bias=True)\n",
              "              (LayerNorm): LayerNorm((1024,), eps=1e-12, elementwise_affine=True)\n",
              "              (dropout): Dropout(p=0.1, inplace=False)\n",
              "            )\n",
              "          )\n",
              "          (intermediate): BertIntermediate(\n",
              "            (dense): Linear(in_features=1024, out_features=4096, bias=True)\n",
              "            (intermediate_act_fn): GELUActivation()\n",
              "          )\n",
              "          (output): BertOutput(\n",
              "            (dense): Linear(in_features=4096, out_features=1024, bias=True)\n",
              "            (LayerNorm): LayerNorm((1024,), eps=1e-12, elementwise_affine=True)\n",
              "            (dropout): Dropout(p=0.1, inplace=False)\n",
              "          )\n",
              "        )\n",
              "      )\n",
              "    )\n",
              "  )\n",
              "  (cls): BertOnlyMLMHead(\n",
              "    (predictions): BertLMPredictionHead(\n",
              "      (transform): BertPredictionHeadTransform(\n",
              "        (dense): Linear(in_features=1024, out_features=1024, bias=True)\n",
              "        (transform_act_fn): GELUActivation()\n",
              "        (LayerNorm): LayerNorm((1024,), eps=1e-12, elementwise_affine=True)\n",
              "      )\n",
              "      (decoder): Linear(in_features=1024, out_features=30522, bias=True)\n",
              "    )\n",
              "  )\n",
              ")"
            ]
          },
          "metadata": {},
          "execution_count": 34
        }
      ],
      "source": [
        "import torch\n",
        "from transformers import BertTokenizer, BertModel, BertForMaskedLM\n",
        "\n",
        "bert_model = 'bert-large-uncased'\n",
        "tokenizer = BertTokenizer.from_pretrained(bert_model)\n",
        "model = BertForMaskedLM.from_pretrained(bert_model)\n",
        "model.eval()"
      ]
    },
    {
      "cell_type": "markdown",
      "metadata": {
        "id": "ZCjuu21qNDk2"
      },
      "source": [
        "###To compute the **Zipf values**, we use the library **wordfreq**"
      ]
    },
    {
      "cell_type": "code",
      "execution_count": null,
      "metadata": {
        "id": "GIx9Fo5nLrlE",
        "colab": {
          "base_uri": "https://localhost:8080/",
          "height": 548
        },
        "outputId": "5998a152-cebd-4f86-a2bc-879cf9b1ec96"
      },
      "outputs": [
        {
          "output_type": "stream",
          "name": "stdout",
          "text": [
            "Collecting wordfreq\n",
            "  Downloading wordfreq-3.1.1-py3-none-any.whl (56.8 MB)\n",
            "\u001b[2K     \u001b[90m━━━━━━━━━━━━━━━━━━━━━━━━━━━━━━━━━━━━━━━━\u001b[0m \u001b[32m56.8/56.8 MB\u001b[0m \u001b[31m10.2 MB/s\u001b[0m eta \u001b[36m0:00:00\u001b[0m\n",
            "\u001b[?25hCollecting ftfy>=6.1 (from wordfreq)\n",
            "  Downloading ftfy-6.1.3-py3-none-any.whl (53 kB)\n",
            "\u001b[2K     \u001b[90m━━━━━━━━━━━━━━━━━━━━━━━━━━━━━━━━━━━━━━━━\u001b[0m \u001b[32m53.4/53.4 kB\u001b[0m \u001b[31m3.6 MB/s\u001b[0m eta \u001b[36m0:00:00\u001b[0m\n",
            "\u001b[?25hRequirement already satisfied: langcodes>=3.0 in /usr/local/lib/python3.10/dist-packages (from wordfreq) (3.3.0)\n",
            "Collecting locate<2.0.0,>=1.1.1 (from wordfreq)\n",
            "  Downloading locate-1.1.1-py3-none-any.whl (5.4 kB)\n",
            "Requirement already satisfied: msgpack<2.0.0,>=1.0.7 in /usr/local/lib/python3.10/dist-packages (from wordfreq) (1.0.7)\n",
            "Collecting regex>=2023.10.3 (from wordfreq)\n",
            "  Downloading regex-2023.10.3-cp310-cp310-manylinux_2_17_x86_64.manylinux2014_x86_64.whl (773 kB)\n",
            "\u001b[2K     \u001b[90m━━━━━━━━━━━━━━━━━━━━━━━━━━━━━━━━━━━━━━━━\u001b[0m \u001b[32m773.9/773.9 kB\u001b[0m \u001b[31m38.1 MB/s\u001b[0m eta \u001b[36m0:00:00\u001b[0m\n",
            "\u001b[?25hCollecting wcwidth<0.3.0,>=0.2.12 (from ftfy>=6.1->wordfreq)\n",
            "  Downloading wcwidth-0.2.12-py2.py3-none-any.whl (34 kB)\n",
            "Installing collected packages: wcwidth, regex, locate, ftfy, wordfreq\n",
            "  Attempting uninstall: wcwidth\n",
            "    Found existing installation: wcwidth 0.2.10\n",
            "    Uninstalling wcwidth-0.2.10:\n",
            "      Successfully uninstalled wcwidth-0.2.10\n",
            "  Attempting uninstall: regex\n",
            "    Found existing installation: regex 2023.6.3\n",
            "    Uninstalling regex-2023.6.3:\n",
            "      Successfully uninstalled regex-2023.6.3\n",
            "Successfully installed ftfy-6.1.3 locate-1.1.1 regex-2023.10.3 wcwidth-0.2.12 wordfreq-3.1.1\n"
          ]
        },
        {
          "output_type": "display_data",
          "data": {
            "application/vnd.colab-display-data+json": {
              "pip_warning": {
                "packages": [
                  "regex",
                  "wcwidth"
                ]
              }
            }
          },
          "metadata": {}
        }
      ],
      "source": [
        "!pip install wordfreq"
      ]
    },
    {
      "cell_type": "markdown",
      "metadata": {
        "id": "x9U5-S_GOT2u"
      },
      "source": [
        "if we want the Zipf of the word \"stop\":"
      ]
    },
    {
      "cell_type": "code",
      "execution_count": null,
      "metadata": {
        "id": "piqCWoCgEvNr",
        "colab": {
          "base_uri": "https://localhost:8080/"
        },
        "outputId": "414d3fd6-0474-4710-b6a3-5143991997d7"
      },
      "outputs": [
        {
          "output_type": "execute_result",
          "data": {
            "text/plain": [
              "5.52"
            ]
          },
          "metadata": {},
          "execution_count": 36
        }
      ],
      "source": [
        "from wordfreq import zipf_frequency\n",
        "zipf_frequency('stop', 'en')\n"
      ]
    },
    {
      "cell_type": "markdown",
      "metadata": {
        "id": "x_XHvjDGOkej"
      },
      "source": [
        "and for the word \"thwart\":"
      ]
    },
    {
      "cell_type": "code",
      "execution_count": null,
      "metadata": {
        "colab": {
          "background_save": true
        },
        "id": "6q0W9MhJOhxz"
      },
      "outputs": [],
      "source": [
        "from wordfreq import zipf_frequency\n",
        "zipf_frequency('thwart', 'en')"
      ]
    },
    {
      "cell_type": "markdown",
      "metadata": {
        "id": "clsADW6WRX4l"
      },
      "source": [
        "As you can see the word \"stop\" is the most common."
      ]
    },
    {
      "cell_type": "markdown",
      "metadata": {
        "id": "RqpV6nvyRlWc"
      },
      "source": [
        "## Now the function to get the candidates out of BERT (MLM):"
      ]
    },
    {
      "cell_type": "code",
      "execution_count": null,
      "metadata": {
        "id": "7l-H8loKIgMF"
      },
      "outputs": [],
      "source": [
        "\n",
        "\n",
        "def get_bert_candidates(input_text, list_cwi_predictions, numb_predictions_displayed = 10):\n",
        "  list_candidates_bert = []\n",
        "  for word,pred  in zip(input_text.split(), list_cwi_predictions):\n",
        "    # if zipf value of word is <3.1 then it is considered complex\n",
        "    if (pred and (pos_tag([word])[0][1] in ['NNS', 'NN', 'VBP', 'RB', 'VBG','VBD' ]))  or (zipf_frequency(word, 'en')) <3.1:\n",
        "      replace_word_mask = input_text.replace(word, '[MASK]')\n",
        "      text = f'[CLS]{replace_word_mask} [SEP] {input_text} [SEP] '\n",
        "      tokenized_text = tokenizer.tokenize(text)\n",
        "      masked_index = [i for i, x in enumerate(tokenized_text) if x == '[MASK]'][0]\n",
        "      indexed_tokens = tokenizer.convert_tokens_to_ids(tokenized_text)\n",
        "      segments_ids = [0]*len(tokenized_text)\n",
        "      tokens_tensor = torch.tensor([indexed_tokens])\n",
        "      segments_tensors = torch.tensor([segments_ids])\n",
        "      # Predict all tokens\n",
        "      with torch.no_grad():\n",
        "          outputs = model(tokens_tensor, token_type_ids=segments_tensors)\n",
        "          predictions = outputs[0][0][masked_index]\n",
        "      predicted_ids = torch.argsort(predictions, descending=True)[:numb_predictions_displayed]\n",
        "      predicted_tokens = tokenizer.convert_ids_to_tokens(list(predicted_ids))\n",
        "      list_candidates_bert.append((word, predicted_tokens))\n",
        "  return list_candidates_bert\n",
        "\n",
        "\n"
      ]
    },
    {
      "cell_type": "markdown",
      "metadata": {
        "id": "7GEwJu8fP8g1"
      },
      "source": [
        "# Simplifying new sentences:"
      ]
    },
    {
      "cell_type": "markdown",
      "metadata": {
        "id": "m-cd30Q6QJwb"
      },
      "source": [
        "Given a list of new sentences with complex words:"
      ]
    },
    {
      "cell_type": "code",
      "execution_count": null,
      "metadata": {
        "id": "PG43mYZp44EG"
      },
      "outputs": [],
      "source": [
        "# from flask import Flask, request, jsonify\n",
        "# import re\n",
        "# # from your_module_containing_functions import process_input, model_cwi, complete_missing_word, get_bert_candidates\n",
        "# import numpy as np\n",
        "# from zipf import zipf_frequency  # Assuming you have the zipf library\n",
        "\n",
        "# app = Flask(__name__)\n",
        "\n",
        "# @app.route('/process_sentences', methods=['POST'])\n",
        "# def process_sentences():\n",
        "#     data = request.get_json()\n",
        "\n",
        "#     if 'sentences' not in data:\n",
        "#         return jsonify({'error': 'Invalid input'}), 400\n",
        "\n",
        "#     sentences = data['sentences']\n",
        "#     simplified_sentences = []\n",
        "\n",
        "#     for input_text in sentences:\n",
        "#         new_text = input_text\n",
        "#         input_padded, index_list, len_list = process_input(input_text)\n",
        "#         pred_cwi = model_cwi.predict(input_padded)\n",
        "#         pred_cwi_binary = np.argmax(pred_cwi, axis=2)\n",
        "#         complete_cwi_predictions = complete_missing_word(pred_cwi_binary, index_list, len_list)\n",
        "#         bert_candidates = get_bert_candidates(input_text, complete_cwi_predictions)\n",
        "\n",
        "#         for word_to_replace, l_candidates in bert_candidates:\n",
        "#             tuples_word_zipf = []\n",
        "#             for w in l_candidates:\n",
        "#                 if w.isalpha():\n",
        "#                     tuples_word_zipf.append((w, zipf_frequency(w, 'en')))\n",
        "#             tuples_word_zipf = sorted(tuples_word_zipf, key=lambda x: x[1], reverse=True)\n",
        "#             new_text = re.sub(word_to_replace, tuples_word_zipf[0][0], new_text)\n",
        "\n",
        "#         simplified_sentences.append(new_text)\n",
        "\n",
        "#     return jsonify({'simplified_sentences': simplified_sentences})\n",
        "\n",
        "# if __name__ == '__main__':\n",
        "#     app.run(port=5000)  # You can change the port as needed\n"
      ]
    },
    {
      "cell_type": "code",
      "execution_count": null,
      "metadata": {
        "id": "x4MRULkKNKNi"
      },
      "outputs": [],
      "source": [
        "list_texts = [\n",
        " 'The Risk That Students Could Arrive at School With the Coronavirus As schools grapple with how to reopen, new estimates show that large parts of the country would probably see infected students if classrooms opened now.',\n",
        " 'How a photograph of a young man cradling his dying friend sent me on a journey across India.',\n",
        " 'Pro-democracy parties, which had hoped to ride widespread discontent to big gains, saw the yearlong delay as an attempt to thwart them.',\n",
        " 'Night after night, calm gave way to chaos. See what happened between the protesters and the federal agents.',\n",
        " 'Contact Tracing Is Failing in Many States. Here is Why. Inadequate testing and protracted delays in producing results have crippled tracking and hampered efforts to contain major outbreaks.',\n",
        " 'After an initial decrease in the youth detention population, the rate of release has slowed, and the gap between white youth and Black youth has grown.'\n",
        " 'A laboratory experiment hints at some of the ways the virus might elude antibody treatments. Combining therapies could help, experts said.',\n",
        " 'Though I may not be here with you, I urge you to answer the highest calling of your heart and stand up for what you truly believe.',\n",
        " 'The research does not prove that infected children are contagious, but it should influence the debate about reopening schools, some experts said.',\n",
        " 'Dropping antibody counts are not a sign that our immune system is failing against the coronavirus, nor an omen that we can not develop a viable vaccine.',\n",
        " 'The Senate majority leader has said he will not approve a stimulus package without a “liability shield,” but top White House officials say they do not see it as essential.',\n",
        " 'Campaign efforts to refocus come as the president continues to push divisive messages that have frustrated his own party.'\n",
        "]"
      ]
    },
    {
      "cell_type": "markdown",
      "metadata": {
        "id": "9Q6jPaqVQSHj"
      },
      "source": [
        "We apply the simplifier to see how it is performing:"
      ]
    },
    {
      "cell_type": "code",
      "execution_count": null,
      "metadata": {
        "colab": {
          "base_uri": "https://localhost:8080/"
        },
        "id": "RFl_PPkLOGyG",
        "outputId": "77507286-3526-4acd-aae9-391863b98127"
      },
      "outputs": [
        {
          "output_type": "stream",
          "name": "stdout",
          "text": [
            "1/1 [==============================] - 0s 192ms/step\n",
            "['grapple', 'reopen,', 'estimates', 'probably']\n",
            "[(['struggle', 'struggled', 'disagree', 'argue', 'cope', 'debate', 'struggles', 'compete', 'deal', '##apple'],), (['open', 'close', '##open', ',', 'shut', 'operate', 'closure', 'closed', 'reopened', 'shutter'],), (['estimates', 'projections', 'figures', 'reports', 'assessments', 'statistics', 'estimated', 'estimate', 'numbers', 'calculations'],), (['probably', 'likely', 'definitely', 'possibly', 'undoubtedly', 'potentially', 'presumably', 'probable', 'maybe', 'certainly'],)]\n",
            "Original text:  The Risk That Students Could Arrive at School With the Coronavirus As schools grapple with how to reopen, new estimates show that large parts of the country would probably see infected students if classrooms opened now.\n",
            "Simplified text: The Risk That Students Could Arrive at School With the Coronavirus As schools deal with how to open new numbers show that large parts of the country would maybe see infected students if classrooms opened now. \n",
            "\n",
            "1/1 [==============================] - 0s 317ms/step\n",
            "['photograph', 'cradling', 'journey']\n",
            "[(['photograph', 'picture', 'photo', 'portrait', 'photographs', 'photography', 'photographer', 'print', 'shot', 'copy'],), (['holding', 'clutching', 'hugging', 'embracing', 'nursing', 'and', 'with', 'carrying', 'comforting', 'kissing'],), (['journey', 'voyage', 'journeys', 'trip', 'pilgrimage', 'tour', 'mission', 'flight', 'travelling', 'travelled'],)]\n",
            "Original text:  How a photograph of a young man cradling his dying friend sent me on a journey across India.\n",
            "Simplified text: How a shot of a young man and his dying friend sent me on a tour across India. \n",
            "\n",
            "1/1 [==============================] - 0s 271ms/step\n",
            "['discontent', 'saw', 'yearlong', 'thwart', 'them.']\n",
            "[(['discontent', 'dissatisfaction', 'dissatisfied', 'unrest', 'dissent', 'opposition', 'resentment', 'agitation', 'discomfort', 'frustration'],), (['saw', 'viewed', 'seen', 'sees', 'regarded', 'see', 'perceived', 'seeing', 'identified', 'recognized'],), (['long', 'election', 'short', 'prolonged', 'lengthy', 'extended', 'indefinite', 'temporary', 'initial', 'year'],), (['undermine', 'stall', '##wart', 'prevent', 'stop', 'halt', 'defeat', 'disrupt', 'counter', 'delay'],), (['.', ';', '!', '?', '...', ':', '|', ',', '-', 'while'],)]\n",
            "Original text:  Pro-democracy parties, which had hoped to ride widespread discontent to big gains, saw the yearlong delay as an attempt to thwart them.\n",
            "Simplified text: Pro-democracy parties, which had hoped to ride widespread opposition to big gains, see the year delay as an attempt to stop while \n",
            "\n",
            "1/1 [==============================] - 0s 111ms/step\n",
            "['calm', 'chaos.', 'protesters']\n",
            "[(['calm', 'quiet', 'stillness', 'serene', 'peaceful', 'peace', 'calming', 'silence', 'order', 'sanity'],), (['chaos', '.', ':', '...', '-', 'confusion', 'panic', 'chaotic', 'madness', 'anarchy'],), (['protesters', 'demonstrators', 'protests', 'protest', 'protesting', 'protested', 'people', 'demonstrations', 'students', 'activists'],)]\n",
            "Original text:  Night after night, calm gave way to chaos. See what happened between the protesters and the federal agents.\n",
            "Simplified text: Night after night, order gave way to chaos See what happened between the people and the federal agents. \n",
            "\n",
            "1/1 [==============================] - 0s 194ms/step\n",
            "['Tracing', 'Failing', 'Inadequate', 'delays', 'tracking', 'outbreaks.']\n",
            "[(['tracing', 'tracking', 'trace', 'mapping', '##oning', 'testing', 'traced', 'scanning', 'traces', 'dating'],), (['failing', 'failed', 'fail', 'fails', 'ineffective', 'failure', 'unsuccessful', 'lacking', 'failures', 'unable'],), (['inadequate', 'insufficient', 'poor', 'adequate', 'improper', 'ineffective', 'incomplete', '##icient', 'inconsistent', 'faulty'],), (['delays', 'delay', 'delayed', 'pauses', 'delaying', 'gaps', 'difficulties', 'intervals', 'hurdles', 'waits'],), (['tracking', 'tracing', 'track', 'tracked', 'monitoring', 'pacing', 'timing', 'signaling', 'routing', 'screening'],), (['.', ';', 'outbreak', 'events', 'infections', 'diseases', 'cases', 'incidents', 'tornadoes', '?'],)]\n",
            "Original text:  Contact Tracing Is Failing in Many States. Here is Why. Inadequate testing and protracted delays in producing results have crippled tracking and hampered efforts to contain major outbreaks.\n",
            "Simplified text: Contact dating Is failed in Many States. Here is Why. poor testing and protracted delay in producing results have crippled track and hampered efforts to contain major events \n",
            "\n",
            "1/1 [==============================] - 0s 103ms/step\n",
            "['decrease', 'youth', 'detention', 'slowed,', 'grown.A', 'experiment', 'hints', 'elude', 'treatments.', 'Combining', 'therapies', 'said.']\n",
            "[(['decrease', 'increase', 'decline', 'drop', 'rise', 'reduction', 'decreases', 'peak', 'growth', 'fall'],), (['youth', 'teen', 'young', 'youthful', 'juvenile', 'youths', 'student', 'younger', 'teenager', 'teenage'],), (['detention', 'jail', 'custody', 'prison', 'detained', 'detainees', 'camp', 'confinement', 'internment', 'arrest'],), (['slowed', 'increased', 'decreased', 'grown', 'declined', 'improved', 'slow', 'dropped', 'accelerated', 'slowing'],), (['a', '.', 'been', 'one', 'no', 'become', 'the', 'this', 'increased', 'developed'],), (['experiment', 'study', 'trial', 'test', 'investigation', 'research', 'experimentation', 'experiments', 'experimental', 'analysis'],), (['hints', 'hinted', 'hint', 'looks', 'glances', 'suggests', 'poked', 'clues', 'looked', 'gestures'],), (['resist', 'evade', 'escape', 'avoid', 'delay', 'inhibit', 'survive', 'deny', 'fail', 'reach'],), (['.', 'treatments', 'treatment', 'therapy', ';', ',', 'studies', 'programs', 'and', 'testing'],), (['combining', 'combination', 'combined', 'using', 'coordinating', 'integrating', 'mixing', 'combinations', 'pairing', 'multiple'],), (['treatments', 'therapy', 'drugs', 'programs', 'treatment', 'techniques', 'cultures', 'strategies', 'measures', 'them'],), (['.', 'said', '?', ';', '!', 'reported', '...', ':', ',', 'stated'],)]\n",
            "Original text:  After an initial decrease in the youth detention population, the rate of release has slowed, and the gap between white youth and Black youth has grown.A laboratory experiment hints at some of the ways the virus might elude antibody treatments. Combining therapies could help, experts said.\n",
            "Simplified text: After an initial fall in the young prison population, the rate of release has increased and the gap between white young and Black young has the laboratory research looks at some of the ways the virus might reach antibody and using them could help, experts said \n",
            "\n",
            "1/1 [==============================] - 0s 114ms/step\n",
            "['urge']\n",
            "[(['urge', 'encourage', 'advise', '##hort', 'counsel', 'urged', 'invite', 'urges', '##lore', 'ask'],)]\n",
            "Original text:  Though I may not be here with you, I urge you to answer the highest calling of your heart and stand up for what you truly believe.\n",
            "Simplified text: Though I may not be here with you, I ask you to answer the highest calling of your heart and stand up for what you truly believe. \n",
            "\n",
            "1/1 [==============================] - 0s 109ms/step\n",
            "['research', 'prove', 'contagious,', 'influence', 'debate', 'reopening', 'experts']\n",
            "[(['research', 'study', 'data', 'science', 'evidence', 'researcher', 'investigation', 'work', 'report', 'studies'],), (['prove', 'show', 'demonstrate', 'confirm', 'suggest', 'establish', 'proves', 'proved', 'conclude', 'indicate'],), (['infectious', 'healthy', 'infected', 'dangerous', 'harmless', ',', 'sick', 'lethal', 'harmful', 'alive'],), (['influence', 'affect', 'impact', 'alter', 'influences', 'inform', 'influenced', 'influencing', 'change', 'bias'],), (['debate', 'discussion', 'debates', 'conversation', 'discussions', 'dialogue', 'debated', 'decision', 'question', 'controversy'],), (['closing', 'opening', 'closed', 'shutting', 'reopened', 'open', 'closure', 'repairing', '##open', 'stopping'],), (['experts', 'expert', 'researchers', 'officials', 'have', 'scientists', 'people', 'specialists', 'critics', 'doctors'],)]\n",
            "Original text:  The research does not prove that infected children are contagious, but it should influence the debate about reopening schools, some experts said.\n",
            "Simplified text: The work does not show that infected children are sick but it should change the question about open schools, some have said. \n",
            "\n",
            "1/1 [==============================] - 0s 236ms/step\n",
            "['antibody', 'failing', 'vaccine.']\n",
            "[(['antibody', 'antigen', 'immune', 'antibodies', 'protein', 'blood', 'cell', 'virus', 'immunity', 'serum'],), (['failing', 'competing', 'weakening', 'ineffective', 'failed', 'developing', 'succeeding', 'weak', 'fail', 'struggling'],), (['vaccine', '.', 'vaccines', 'virus', ';', 'disease', 'serum', '!', 'response', 'cure'],)]\n",
            "Original text:  Dropping antibody counts are not a sign that our immune system is failing against the coronavirus, nor an omen that we can not develop a viable vaccine.\n",
            "Simplified text: Dropping blood counts are not a sign that our immune system is failed against the coronavirus, nor an omen that we can not develop a viable response \n",
            "\n",
            "1/1 [==============================] - 0s 103ms/step\n",
            "['stimulus', '“liability', 'shield,”', 'essential.']\n",
            "[(['stimulus', 'spending', 'budget', 'tax', 'reform', 'conservative', 'fiscal', 'republican', 'deficit', 'defense'],), (['liability', '\"', \"'\", 'safety', 'risk', 'bankruptcy', 'responsibility', 'disclosure', 'reliability', 'privacy'],), (['shield', ',', 'protection', 'defense', 'barrier', 'safeguard', 'clause', 'suit', 'immunity', '.'],), (['.', ';', '...', '?', ':', '!', 'necessary', '-', ',', 'possible'],)]\n",
            "Original text:  The Senate majority leader has said he will not approve a stimulus package without a “liability shield,” but top White House officials say they do not see it as essential.\n",
            "Simplified text: The Senate majority leader has said he will not approve a tax package without a risk defense but top White House officials say they do not see it as possible \n",
            "\n",
            "1/1 [==============================] - 0s 103ms/step\n",
            "['Campaign', 'refocus', 'divisive']\n",
            "[(['campaign', 'election', 'political', 'electoral', 'campaigns', 'the', 'democratic', 'campaigned', 'campaigning', 'policy'],), (['focus', 'continue', 'concentrate', 'consolidate', 'reform', 'push', 'respond', 'improve', 'lead', 'succeed'],), (['conservative', 'negative', 'liberal', 'the', 'controversial', 'unpopular', 'partisan', 'offensive', 'critical', 'positive'],)]\n",
            "Original text:  Campaign efforts to refocus come as the president continues to push divisive messages that have frustrated his own party.\n",
            "Simplified text: the efforts to lead come as the president continues to push the messages that have frustrated his own party. \n",
            "\n"
          ]
        }
      ],
      "source": [
        "for input_text in list_texts:\n",
        "  new_text = input_text\n",
        "  input_padded, index_list, len_list = process_input(input_text)\n",
        "  pred_cwi = model_cwi.predict(input_padded)\n",
        "  pred_cwi_binary = np.argmax(pred_cwi, axis = 2)\n",
        "  complete_cwi_predictions = complete_missing_word(pred_cwi_binary, index_list, len_list)\n",
        "  bert_candidates =   get_bert_candidates(input_text, complete_cwi_predictions)\n",
        "  # complex words = word_list[0]\n",
        "  # synonyms = word_list[1:]\n",
        "  complex_words= []\n",
        "  synonyms = []\n",
        "\n",
        "  for word_list in bert_candidates:\n",
        "    complex_words.append(word_list[0])\n",
        "    synonyms.append(word_list[1:])\n",
        "\n",
        "  print(complex_words)\n",
        "  print(synonyms)\n",
        "\n",
        "  for word_to_replace, l_candidates in bert_candidates:\n",
        "    tuples_word_zipf = []\n",
        "    for w in l_candidates:\n",
        "      if w.isalpha():\n",
        "        tuples_word_zipf.append((w, zipf_frequency(w, 'en')))\n",
        "    tuples_word_zipf = sorted(tuples_word_zipf, key = lambda x: x[1], reverse=True)\n",
        "\n",
        "    new_text = re.sub(word_to_replace, tuples_word_zipf[0][0], new_text)\n",
        "  print(\"Original text: \", input_text )\n",
        "  print(\"Simplified text:\", new_text, \"\\n\")"
      ]
    },
    {
      "cell_type": "code",
      "execution_count": null,
      "metadata": {
        "colab": {
          "background_save": true
        },
        "id": "cdSfo1H5a-bc"
      },
      "outputs": [],
      "source": [
        "!pip install transformers\n",
        "!pip install nltk\n",
        "!pip install bert-score"
      ]
    },
    {
      "cell_type": "markdown",
      "metadata": {
        "id": "uX_rtWzTQnEZ"
      },
      "source": [
        "Calculating the efficiency of our model"
      ]
    },
    {
      "cell_type": "code",
      "execution_count": null,
      "metadata": {
        "id": "2B214SPPbN-g"
      },
      "outputs": [],
      "source": [
        "from transformers import BertTokenizer, BertModel,BertForMaskedLM\n",
        "import torch\n",
        "import numpy as np\n",
        "from bert_score import BERTScorer"
      ]
    },
    {
      "cell_type": "code",
      "execution_count": null,
      "metadata": {
        "id": "IJZoHLkdbYJF"
      },
      "outputs": [],
      "source": [
        "for input_text in list_texts:\n",
        "  new_text = input_text\n",
        "  input_padded, index_list, len_list = process_input(input_text)\n",
        "  pred_cwi = model_cwi.predict(input_padded)\n",
        "  pred_cwi_binary = np.argmax(pred_cwi, axis = 2)\n",
        "  complete_cwi_predictions = complete_missing_word(pred_cwi_binary, index_list, len_list)\n",
        "  bert_candidates =   get_bert_candidates(input_text, complete_cwi_predictions)\n",
        "  for word_to_replace, l_candidates in bert_candidates:\n",
        "    tuples_word_zipf = []\n",
        "    for w in l_candidates:\n",
        "      if w.isalpha():\n",
        "        tuples_word_zipf.append((w, zipf_frequency(w, 'en')))\n",
        "    tuples_word_zipf = sorted(tuples_word_zipf, key = lambda x: x[1], reverse=True)\n",
        "    new_text = re.sub(word_to_replace, tuples_word_zipf[0][0], new_text)\n",
        "  # BERTScore calculation\n",
        "  scorer = BERTScorer(model_type='bert-base-uncased')\n",
        "  P, R, F1 = scorer.score([new_text], [input_text])\n",
        "  print(f\"BERTScore Precision: {P.mean():.4f}, Recall: {R.mean():.4f}, F1: {F1.mean():.4f}\")"
      ]
    }
  ],
  "metadata": {
    "colab": {
      "provenance": []
    },
    "kernelspec": {
      "display_name": "Python 3",
      "name": "python3"
    },
    "language_info": {
      "codemirror_mode": {
        "name": "ipython",
        "version": 3
      },
      "file_extension": ".py",
      "mimetype": "text/x-python",
      "name": "python",
      "nbconvert_exporter": "python",
      "pygments_lexer": "ipython3",
      "version": "3.6.6"
    },
    "widgets": {
      "application/vnd.jupyter.widget-state+json": {
        "ea52996dc40744e69a400603919790ea": {
          "model_module": "@jupyter-widgets/controls",
          "model_name": "HBoxModel",
          "model_module_version": "1.5.0",
          "state": {
            "_dom_classes": [],
            "_model_module": "@jupyter-widgets/controls",
            "_model_module_version": "1.5.0",
            "_model_name": "HBoxModel",
            "_view_count": null,
            "_view_module": "@jupyter-widgets/controls",
            "_view_module_version": "1.5.0",
            "_view_name": "HBoxView",
            "box_style": "",
            "children": [
              "IPY_MODEL_e6f742fa75da4e66a7ac772f67fb9622",
              "IPY_MODEL_75a47f17893d4653bf68ba727140cdec",
              "IPY_MODEL_0a17c2cf972b471f847ad5ba2f45e55c"
            ],
            "layout": "IPY_MODEL_9415ecdb22774e7f8cc1354cd9d8e0f7"
          }
        },
        "e6f742fa75da4e66a7ac772f67fb9622": {
          "model_module": "@jupyter-widgets/controls",
          "model_name": "HTMLModel",
          "model_module_version": "1.5.0",
          "state": {
            "_dom_classes": [],
            "_model_module": "@jupyter-widgets/controls",
            "_model_module_version": "1.5.0",
            "_model_name": "HTMLModel",
            "_view_count": null,
            "_view_module": "@jupyter-widgets/controls",
            "_view_module_version": "1.5.0",
            "_view_name": "HTMLView",
            "description": "",
            "description_tooltip": null,
            "layout": "IPY_MODEL_5ce6a4bfa97249f8b72667e4f55e119b",
            "placeholder": "​",
            "style": "IPY_MODEL_c8e9b68c1acb4e9fb4b570e0c540d476",
            "value": "tokenizer_config.json: 100%"
          }
        },
        "75a47f17893d4653bf68ba727140cdec": {
          "model_module": "@jupyter-widgets/controls",
          "model_name": "FloatProgressModel",
          "model_module_version": "1.5.0",
          "state": {
            "_dom_classes": [],
            "_model_module": "@jupyter-widgets/controls",
            "_model_module_version": "1.5.0",
            "_model_name": "FloatProgressModel",
            "_view_count": null,
            "_view_module": "@jupyter-widgets/controls",
            "_view_module_version": "1.5.0",
            "_view_name": "ProgressView",
            "bar_style": "success",
            "description": "",
            "description_tooltip": null,
            "layout": "IPY_MODEL_7fb0b10d324c4fa7ae314daa5602132a",
            "max": 28,
            "min": 0,
            "orientation": "horizontal",
            "style": "IPY_MODEL_415a343fbcd14dad9e9292cf9744913b",
            "value": 28
          }
        },
        "0a17c2cf972b471f847ad5ba2f45e55c": {
          "model_module": "@jupyter-widgets/controls",
          "model_name": "HTMLModel",
          "model_module_version": "1.5.0",
          "state": {
            "_dom_classes": [],
            "_model_module": "@jupyter-widgets/controls",
            "_model_module_version": "1.5.0",
            "_model_name": "HTMLModel",
            "_view_count": null,
            "_view_module": "@jupyter-widgets/controls",
            "_view_module_version": "1.5.0",
            "_view_name": "HTMLView",
            "description": "",
            "description_tooltip": null,
            "layout": "IPY_MODEL_59212d4d0d7146a1bb58c9a8501b3dce",
            "placeholder": "​",
            "style": "IPY_MODEL_f94ff5e3339a4d2ab470b9633501adf8",
            "value": " 28.0/28.0 [00:00&lt;00:00, 536B/s]"
          }
        },
        "9415ecdb22774e7f8cc1354cd9d8e0f7": {
          "model_module": "@jupyter-widgets/base",
          "model_name": "LayoutModel",
          "model_module_version": "1.2.0",
          "state": {
            "_model_module": "@jupyter-widgets/base",
            "_model_module_version": "1.2.0",
            "_model_name": "LayoutModel",
            "_view_count": null,
            "_view_module": "@jupyter-widgets/base",
            "_view_module_version": "1.2.0",
            "_view_name": "LayoutView",
            "align_content": null,
            "align_items": null,
            "align_self": null,
            "border": null,
            "bottom": null,
            "display": null,
            "flex": null,
            "flex_flow": null,
            "grid_area": null,
            "grid_auto_columns": null,
            "grid_auto_flow": null,
            "grid_auto_rows": null,
            "grid_column": null,
            "grid_gap": null,
            "grid_row": null,
            "grid_template_areas": null,
            "grid_template_columns": null,
            "grid_template_rows": null,
            "height": null,
            "justify_content": null,
            "justify_items": null,
            "left": null,
            "margin": null,
            "max_height": null,
            "max_width": null,
            "min_height": null,
            "min_width": null,
            "object_fit": null,
            "object_position": null,
            "order": null,
            "overflow": null,
            "overflow_x": null,
            "overflow_y": null,
            "padding": null,
            "right": null,
            "top": null,
            "visibility": null,
            "width": null
          }
        },
        "5ce6a4bfa97249f8b72667e4f55e119b": {
          "model_module": "@jupyter-widgets/base",
          "model_name": "LayoutModel",
          "model_module_version": "1.2.0",
          "state": {
            "_model_module": "@jupyter-widgets/base",
            "_model_module_version": "1.2.0",
            "_model_name": "LayoutModel",
            "_view_count": null,
            "_view_module": "@jupyter-widgets/base",
            "_view_module_version": "1.2.0",
            "_view_name": "LayoutView",
            "align_content": null,
            "align_items": null,
            "align_self": null,
            "border": null,
            "bottom": null,
            "display": null,
            "flex": null,
            "flex_flow": null,
            "grid_area": null,
            "grid_auto_columns": null,
            "grid_auto_flow": null,
            "grid_auto_rows": null,
            "grid_column": null,
            "grid_gap": null,
            "grid_row": null,
            "grid_template_areas": null,
            "grid_template_columns": null,
            "grid_template_rows": null,
            "height": null,
            "justify_content": null,
            "justify_items": null,
            "left": null,
            "margin": null,
            "max_height": null,
            "max_width": null,
            "min_height": null,
            "min_width": null,
            "object_fit": null,
            "object_position": null,
            "order": null,
            "overflow": null,
            "overflow_x": null,
            "overflow_y": null,
            "padding": null,
            "right": null,
            "top": null,
            "visibility": null,
            "width": null
          }
        },
        "c8e9b68c1acb4e9fb4b570e0c540d476": {
          "model_module": "@jupyter-widgets/controls",
          "model_name": "DescriptionStyleModel",
          "model_module_version": "1.5.0",
          "state": {
            "_model_module": "@jupyter-widgets/controls",
            "_model_module_version": "1.5.0",
            "_model_name": "DescriptionStyleModel",
            "_view_count": null,
            "_view_module": "@jupyter-widgets/base",
            "_view_module_version": "1.2.0",
            "_view_name": "StyleView",
            "description_width": ""
          }
        },
        "7fb0b10d324c4fa7ae314daa5602132a": {
          "model_module": "@jupyter-widgets/base",
          "model_name": "LayoutModel",
          "model_module_version": "1.2.0",
          "state": {
            "_model_module": "@jupyter-widgets/base",
            "_model_module_version": "1.2.0",
            "_model_name": "LayoutModel",
            "_view_count": null,
            "_view_module": "@jupyter-widgets/base",
            "_view_module_version": "1.2.0",
            "_view_name": "LayoutView",
            "align_content": null,
            "align_items": null,
            "align_self": null,
            "border": null,
            "bottom": null,
            "display": null,
            "flex": null,
            "flex_flow": null,
            "grid_area": null,
            "grid_auto_columns": null,
            "grid_auto_flow": null,
            "grid_auto_rows": null,
            "grid_column": null,
            "grid_gap": null,
            "grid_row": null,
            "grid_template_areas": null,
            "grid_template_columns": null,
            "grid_template_rows": null,
            "height": null,
            "justify_content": null,
            "justify_items": null,
            "left": null,
            "margin": null,
            "max_height": null,
            "max_width": null,
            "min_height": null,
            "min_width": null,
            "object_fit": null,
            "object_position": null,
            "order": null,
            "overflow": null,
            "overflow_x": null,
            "overflow_y": null,
            "padding": null,
            "right": null,
            "top": null,
            "visibility": null,
            "width": null
          }
        },
        "415a343fbcd14dad9e9292cf9744913b": {
          "model_module": "@jupyter-widgets/controls",
          "model_name": "ProgressStyleModel",
          "model_module_version": "1.5.0",
          "state": {
            "_model_module": "@jupyter-widgets/controls",
            "_model_module_version": "1.5.0",
            "_model_name": "ProgressStyleModel",
            "_view_count": null,
            "_view_module": "@jupyter-widgets/base",
            "_view_module_version": "1.2.0",
            "_view_name": "StyleView",
            "bar_color": null,
            "description_width": ""
          }
        },
        "59212d4d0d7146a1bb58c9a8501b3dce": {
          "model_module": "@jupyter-widgets/base",
          "model_name": "LayoutModel",
          "model_module_version": "1.2.0",
          "state": {
            "_model_module": "@jupyter-widgets/base",
            "_model_module_version": "1.2.0",
            "_model_name": "LayoutModel",
            "_view_count": null,
            "_view_module": "@jupyter-widgets/base",
            "_view_module_version": "1.2.0",
            "_view_name": "LayoutView",
            "align_content": null,
            "align_items": null,
            "align_self": null,
            "border": null,
            "bottom": null,
            "display": null,
            "flex": null,
            "flex_flow": null,
            "grid_area": null,
            "grid_auto_columns": null,
            "grid_auto_flow": null,
            "grid_auto_rows": null,
            "grid_column": null,
            "grid_gap": null,
            "grid_row": null,
            "grid_template_areas": null,
            "grid_template_columns": null,
            "grid_template_rows": null,
            "height": null,
            "justify_content": null,
            "justify_items": null,
            "left": null,
            "margin": null,
            "max_height": null,
            "max_width": null,
            "min_height": null,
            "min_width": null,
            "object_fit": null,
            "object_position": null,
            "order": null,
            "overflow": null,
            "overflow_x": null,
            "overflow_y": null,
            "padding": null,
            "right": null,
            "top": null,
            "visibility": null,
            "width": null
          }
        },
        "f94ff5e3339a4d2ab470b9633501adf8": {
          "model_module": "@jupyter-widgets/controls",
          "model_name": "DescriptionStyleModel",
          "model_module_version": "1.5.0",
          "state": {
            "_model_module": "@jupyter-widgets/controls",
            "_model_module_version": "1.5.0",
            "_model_name": "DescriptionStyleModel",
            "_view_count": null,
            "_view_module": "@jupyter-widgets/base",
            "_view_module_version": "1.2.0",
            "_view_name": "StyleView",
            "description_width": ""
          }
        },
        "4421af27b2c440b59149db5f977557c9": {
          "model_module": "@jupyter-widgets/controls",
          "model_name": "HBoxModel",
          "model_module_version": "1.5.0",
          "state": {
            "_dom_classes": [],
            "_model_module": "@jupyter-widgets/controls",
            "_model_module_version": "1.5.0",
            "_model_name": "HBoxModel",
            "_view_count": null,
            "_view_module": "@jupyter-widgets/controls",
            "_view_module_version": "1.5.0",
            "_view_name": "HBoxView",
            "box_style": "",
            "children": [
              "IPY_MODEL_dcb77398bf144323a91461d6527661e2",
              "IPY_MODEL_2bc8e26268154354af0fd4195b48acd9",
              "IPY_MODEL_34bb287e830e41eb8f8e1339f8601345"
            ],
            "layout": "IPY_MODEL_981fd03dab3a4f0292200946aafdc6ba"
          }
        },
        "dcb77398bf144323a91461d6527661e2": {
          "model_module": "@jupyter-widgets/controls",
          "model_name": "HTMLModel",
          "model_module_version": "1.5.0",
          "state": {
            "_dom_classes": [],
            "_model_module": "@jupyter-widgets/controls",
            "_model_module_version": "1.5.0",
            "_model_name": "HTMLModel",
            "_view_count": null,
            "_view_module": "@jupyter-widgets/controls",
            "_view_module_version": "1.5.0",
            "_view_name": "HTMLView",
            "description": "",
            "description_tooltip": null,
            "layout": "IPY_MODEL_6bfa5e29041347dda63c34225fae759c",
            "placeholder": "​",
            "style": "IPY_MODEL_078ebf2c810242988054a733fbdc5214",
            "value": "vocab.txt: 100%"
          }
        },
        "2bc8e26268154354af0fd4195b48acd9": {
          "model_module": "@jupyter-widgets/controls",
          "model_name": "FloatProgressModel",
          "model_module_version": "1.5.0",
          "state": {
            "_dom_classes": [],
            "_model_module": "@jupyter-widgets/controls",
            "_model_module_version": "1.5.0",
            "_model_name": "FloatProgressModel",
            "_view_count": null,
            "_view_module": "@jupyter-widgets/controls",
            "_view_module_version": "1.5.0",
            "_view_name": "ProgressView",
            "bar_style": "success",
            "description": "",
            "description_tooltip": null,
            "layout": "IPY_MODEL_4d5331b877d04345b33ee63c9e40543c",
            "max": 231508,
            "min": 0,
            "orientation": "horizontal",
            "style": "IPY_MODEL_a869719277a44a5bbe0e38435c68dd73",
            "value": 231508
          }
        },
        "34bb287e830e41eb8f8e1339f8601345": {
          "model_module": "@jupyter-widgets/controls",
          "model_name": "HTMLModel",
          "model_module_version": "1.5.0",
          "state": {
            "_dom_classes": [],
            "_model_module": "@jupyter-widgets/controls",
            "_model_module_version": "1.5.0",
            "_model_name": "HTMLModel",
            "_view_count": null,
            "_view_module": "@jupyter-widgets/controls",
            "_view_module_version": "1.5.0",
            "_view_name": "HTMLView",
            "description": "",
            "description_tooltip": null,
            "layout": "IPY_MODEL_c9cf61a783b34236bd9c2a32c5a24376",
            "placeholder": "​",
            "style": "IPY_MODEL_4935689473c34581be46ebcca04832c0",
            "value": " 232k/232k [00:00&lt;00:00, 2.87MB/s]"
          }
        },
        "981fd03dab3a4f0292200946aafdc6ba": {
          "model_module": "@jupyter-widgets/base",
          "model_name": "LayoutModel",
          "model_module_version": "1.2.0",
          "state": {
            "_model_module": "@jupyter-widgets/base",
            "_model_module_version": "1.2.0",
            "_model_name": "LayoutModel",
            "_view_count": null,
            "_view_module": "@jupyter-widgets/base",
            "_view_module_version": "1.2.0",
            "_view_name": "LayoutView",
            "align_content": null,
            "align_items": null,
            "align_self": null,
            "border": null,
            "bottom": null,
            "display": null,
            "flex": null,
            "flex_flow": null,
            "grid_area": null,
            "grid_auto_columns": null,
            "grid_auto_flow": null,
            "grid_auto_rows": null,
            "grid_column": null,
            "grid_gap": null,
            "grid_row": null,
            "grid_template_areas": null,
            "grid_template_columns": null,
            "grid_template_rows": null,
            "height": null,
            "justify_content": null,
            "justify_items": null,
            "left": null,
            "margin": null,
            "max_height": null,
            "max_width": null,
            "min_height": null,
            "min_width": null,
            "object_fit": null,
            "object_position": null,
            "order": null,
            "overflow": null,
            "overflow_x": null,
            "overflow_y": null,
            "padding": null,
            "right": null,
            "top": null,
            "visibility": null,
            "width": null
          }
        },
        "6bfa5e29041347dda63c34225fae759c": {
          "model_module": "@jupyter-widgets/base",
          "model_name": "LayoutModel",
          "model_module_version": "1.2.0",
          "state": {
            "_model_module": "@jupyter-widgets/base",
            "_model_module_version": "1.2.0",
            "_model_name": "LayoutModel",
            "_view_count": null,
            "_view_module": "@jupyter-widgets/base",
            "_view_module_version": "1.2.0",
            "_view_name": "LayoutView",
            "align_content": null,
            "align_items": null,
            "align_self": null,
            "border": null,
            "bottom": null,
            "display": null,
            "flex": null,
            "flex_flow": null,
            "grid_area": null,
            "grid_auto_columns": null,
            "grid_auto_flow": null,
            "grid_auto_rows": null,
            "grid_column": null,
            "grid_gap": null,
            "grid_row": null,
            "grid_template_areas": null,
            "grid_template_columns": null,
            "grid_template_rows": null,
            "height": null,
            "justify_content": null,
            "justify_items": null,
            "left": null,
            "margin": null,
            "max_height": null,
            "max_width": null,
            "min_height": null,
            "min_width": null,
            "object_fit": null,
            "object_position": null,
            "order": null,
            "overflow": null,
            "overflow_x": null,
            "overflow_y": null,
            "padding": null,
            "right": null,
            "top": null,
            "visibility": null,
            "width": null
          }
        },
        "078ebf2c810242988054a733fbdc5214": {
          "model_module": "@jupyter-widgets/controls",
          "model_name": "DescriptionStyleModel",
          "model_module_version": "1.5.0",
          "state": {
            "_model_module": "@jupyter-widgets/controls",
            "_model_module_version": "1.5.0",
            "_model_name": "DescriptionStyleModel",
            "_view_count": null,
            "_view_module": "@jupyter-widgets/base",
            "_view_module_version": "1.2.0",
            "_view_name": "StyleView",
            "description_width": ""
          }
        },
        "4d5331b877d04345b33ee63c9e40543c": {
          "model_module": "@jupyter-widgets/base",
          "model_name": "LayoutModel",
          "model_module_version": "1.2.0",
          "state": {
            "_model_module": "@jupyter-widgets/base",
            "_model_module_version": "1.2.0",
            "_model_name": "LayoutModel",
            "_view_count": null,
            "_view_module": "@jupyter-widgets/base",
            "_view_module_version": "1.2.0",
            "_view_name": "LayoutView",
            "align_content": null,
            "align_items": null,
            "align_self": null,
            "border": null,
            "bottom": null,
            "display": null,
            "flex": null,
            "flex_flow": null,
            "grid_area": null,
            "grid_auto_columns": null,
            "grid_auto_flow": null,
            "grid_auto_rows": null,
            "grid_column": null,
            "grid_gap": null,
            "grid_row": null,
            "grid_template_areas": null,
            "grid_template_columns": null,
            "grid_template_rows": null,
            "height": null,
            "justify_content": null,
            "justify_items": null,
            "left": null,
            "margin": null,
            "max_height": null,
            "max_width": null,
            "min_height": null,
            "min_width": null,
            "object_fit": null,
            "object_position": null,
            "order": null,
            "overflow": null,
            "overflow_x": null,
            "overflow_y": null,
            "padding": null,
            "right": null,
            "top": null,
            "visibility": null,
            "width": null
          }
        },
        "a869719277a44a5bbe0e38435c68dd73": {
          "model_module": "@jupyter-widgets/controls",
          "model_name": "ProgressStyleModel",
          "model_module_version": "1.5.0",
          "state": {
            "_model_module": "@jupyter-widgets/controls",
            "_model_module_version": "1.5.0",
            "_model_name": "ProgressStyleModel",
            "_view_count": null,
            "_view_module": "@jupyter-widgets/base",
            "_view_module_version": "1.2.0",
            "_view_name": "StyleView",
            "bar_color": null,
            "description_width": ""
          }
        },
        "c9cf61a783b34236bd9c2a32c5a24376": {
          "model_module": "@jupyter-widgets/base",
          "model_name": "LayoutModel",
          "model_module_version": "1.2.0",
          "state": {
            "_model_module": "@jupyter-widgets/base",
            "_model_module_version": "1.2.0",
            "_model_name": "LayoutModel",
            "_view_count": null,
            "_view_module": "@jupyter-widgets/base",
            "_view_module_version": "1.2.0",
            "_view_name": "LayoutView",
            "align_content": null,
            "align_items": null,
            "align_self": null,
            "border": null,
            "bottom": null,
            "display": null,
            "flex": null,
            "flex_flow": null,
            "grid_area": null,
            "grid_auto_columns": null,
            "grid_auto_flow": null,
            "grid_auto_rows": null,
            "grid_column": null,
            "grid_gap": null,
            "grid_row": null,
            "grid_template_areas": null,
            "grid_template_columns": null,
            "grid_template_rows": null,
            "height": null,
            "justify_content": null,
            "justify_items": null,
            "left": null,
            "margin": null,
            "max_height": null,
            "max_width": null,
            "min_height": null,
            "min_width": null,
            "object_fit": null,
            "object_position": null,
            "order": null,
            "overflow": null,
            "overflow_x": null,
            "overflow_y": null,
            "padding": null,
            "right": null,
            "top": null,
            "visibility": null,
            "width": null
          }
        },
        "4935689473c34581be46ebcca04832c0": {
          "model_module": "@jupyter-widgets/controls",
          "model_name": "DescriptionStyleModel",
          "model_module_version": "1.5.0",
          "state": {
            "_model_module": "@jupyter-widgets/controls",
            "_model_module_version": "1.5.0",
            "_model_name": "DescriptionStyleModel",
            "_view_count": null,
            "_view_module": "@jupyter-widgets/base",
            "_view_module_version": "1.2.0",
            "_view_name": "StyleView",
            "description_width": ""
          }
        },
        "233e9d6a3a804580b7fb1e73f4b0cca0": {
          "model_module": "@jupyter-widgets/controls",
          "model_name": "HBoxModel",
          "model_module_version": "1.5.0",
          "state": {
            "_dom_classes": [],
            "_model_module": "@jupyter-widgets/controls",
            "_model_module_version": "1.5.0",
            "_model_name": "HBoxModel",
            "_view_count": null,
            "_view_module": "@jupyter-widgets/controls",
            "_view_module_version": "1.5.0",
            "_view_name": "HBoxView",
            "box_style": "",
            "children": [
              "IPY_MODEL_611332c73c4f47cdb245bc10be0b76ac",
              "IPY_MODEL_9dff2ac12e014777a6f22e1f2e0ea729",
              "IPY_MODEL_e6024338286144ce8b12b3afb91440c4"
            ],
            "layout": "IPY_MODEL_2d12b105476b4b9cafcb86a194263785"
          }
        },
        "611332c73c4f47cdb245bc10be0b76ac": {
          "model_module": "@jupyter-widgets/controls",
          "model_name": "HTMLModel",
          "model_module_version": "1.5.0",
          "state": {
            "_dom_classes": [],
            "_model_module": "@jupyter-widgets/controls",
            "_model_module_version": "1.5.0",
            "_model_name": "HTMLModel",
            "_view_count": null,
            "_view_module": "@jupyter-widgets/controls",
            "_view_module_version": "1.5.0",
            "_view_name": "HTMLView",
            "description": "",
            "description_tooltip": null,
            "layout": "IPY_MODEL_8eebb78e91dc444db81414648bbcad41",
            "placeholder": "​",
            "style": "IPY_MODEL_5abed339b88341fda1d1527fe7f63c3d",
            "value": "tokenizer.json: 100%"
          }
        },
        "9dff2ac12e014777a6f22e1f2e0ea729": {
          "model_module": "@jupyter-widgets/controls",
          "model_name": "FloatProgressModel",
          "model_module_version": "1.5.0",
          "state": {
            "_dom_classes": [],
            "_model_module": "@jupyter-widgets/controls",
            "_model_module_version": "1.5.0",
            "_model_name": "FloatProgressModel",
            "_view_count": null,
            "_view_module": "@jupyter-widgets/controls",
            "_view_module_version": "1.5.0",
            "_view_name": "ProgressView",
            "bar_style": "success",
            "description": "",
            "description_tooltip": null,
            "layout": "IPY_MODEL_0611e2fae98840bf9580a6c4322fbde4",
            "max": 466062,
            "min": 0,
            "orientation": "horizontal",
            "style": "IPY_MODEL_6720c39bda6141c58b7c6294f9b7dd5b",
            "value": 466062
          }
        },
        "e6024338286144ce8b12b3afb91440c4": {
          "model_module": "@jupyter-widgets/controls",
          "model_name": "HTMLModel",
          "model_module_version": "1.5.0",
          "state": {
            "_dom_classes": [],
            "_model_module": "@jupyter-widgets/controls",
            "_model_module_version": "1.5.0",
            "_model_name": "HTMLModel",
            "_view_count": null,
            "_view_module": "@jupyter-widgets/controls",
            "_view_module_version": "1.5.0",
            "_view_name": "HTMLView",
            "description": "",
            "description_tooltip": null,
            "layout": "IPY_MODEL_7378d28ffe994b1f9c5c9bb52a6d9317",
            "placeholder": "​",
            "style": "IPY_MODEL_49295b520b864c1fa574e437b21691a2",
            "value": " 466k/466k [00:00&lt;00:00, 7.80MB/s]"
          }
        },
        "2d12b105476b4b9cafcb86a194263785": {
          "model_module": "@jupyter-widgets/base",
          "model_name": "LayoutModel",
          "model_module_version": "1.2.0",
          "state": {
            "_model_module": "@jupyter-widgets/base",
            "_model_module_version": "1.2.0",
            "_model_name": "LayoutModel",
            "_view_count": null,
            "_view_module": "@jupyter-widgets/base",
            "_view_module_version": "1.2.0",
            "_view_name": "LayoutView",
            "align_content": null,
            "align_items": null,
            "align_self": null,
            "border": null,
            "bottom": null,
            "display": null,
            "flex": null,
            "flex_flow": null,
            "grid_area": null,
            "grid_auto_columns": null,
            "grid_auto_flow": null,
            "grid_auto_rows": null,
            "grid_column": null,
            "grid_gap": null,
            "grid_row": null,
            "grid_template_areas": null,
            "grid_template_columns": null,
            "grid_template_rows": null,
            "height": null,
            "justify_content": null,
            "justify_items": null,
            "left": null,
            "margin": null,
            "max_height": null,
            "max_width": null,
            "min_height": null,
            "min_width": null,
            "object_fit": null,
            "object_position": null,
            "order": null,
            "overflow": null,
            "overflow_x": null,
            "overflow_y": null,
            "padding": null,
            "right": null,
            "top": null,
            "visibility": null,
            "width": null
          }
        },
        "8eebb78e91dc444db81414648bbcad41": {
          "model_module": "@jupyter-widgets/base",
          "model_name": "LayoutModel",
          "model_module_version": "1.2.0",
          "state": {
            "_model_module": "@jupyter-widgets/base",
            "_model_module_version": "1.2.0",
            "_model_name": "LayoutModel",
            "_view_count": null,
            "_view_module": "@jupyter-widgets/base",
            "_view_module_version": "1.2.0",
            "_view_name": "LayoutView",
            "align_content": null,
            "align_items": null,
            "align_self": null,
            "border": null,
            "bottom": null,
            "display": null,
            "flex": null,
            "flex_flow": null,
            "grid_area": null,
            "grid_auto_columns": null,
            "grid_auto_flow": null,
            "grid_auto_rows": null,
            "grid_column": null,
            "grid_gap": null,
            "grid_row": null,
            "grid_template_areas": null,
            "grid_template_columns": null,
            "grid_template_rows": null,
            "height": null,
            "justify_content": null,
            "justify_items": null,
            "left": null,
            "margin": null,
            "max_height": null,
            "max_width": null,
            "min_height": null,
            "min_width": null,
            "object_fit": null,
            "object_position": null,
            "order": null,
            "overflow": null,
            "overflow_x": null,
            "overflow_y": null,
            "padding": null,
            "right": null,
            "top": null,
            "visibility": null,
            "width": null
          }
        },
        "5abed339b88341fda1d1527fe7f63c3d": {
          "model_module": "@jupyter-widgets/controls",
          "model_name": "DescriptionStyleModel",
          "model_module_version": "1.5.0",
          "state": {
            "_model_module": "@jupyter-widgets/controls",
            "_model_module_version": "1.5.0",
            "_model_name": "DescriptionStyleModel",
            "_view_count": null,
            "_view_module": "@jupyter-widgets/base",
            "_view_module_version": "1.2.0",
            "_view_name": "StyleView",
            "description_width": ""
          }
        },
        "0611e2fae98840bf9580a6c4322fbde4": {
          "model_module": "@jupyter-widgets/base",
          "model_name": "LayoutModel",
          "model_module_version": "1.2.0",
          "state": {
            "_model_module": "@jupyter-widgets/base",
            "_model_module_version": "1.2.0",
            "_model_name": "LayoutModel",
            "_view_count": null,
            "_view_module": "@jupyter-widgets/base",
            "_view_module_version": "1.2.0",
            "_view_name": "LayoutView",
            "align_content": null,
            "align_items": null,
            "align_self": null,
            "border": null,
            "bottom": null,
            "display": null,
            "flex": null,
            "flex_flow": null,
            "grid_area": null,
            "grid_auto_columns": null,
            "grid_auto_flow": null,
            "grid_auto_rows": null,
            "grid_column": null,
            "grid_gap": null,
            "grid_row": null,
            "grid_template_areas": null,
            "grid_template_columns": null,
            "grid_template_rows": null,
            "height": null,
            "justify_content": null,
            "justify_items": null,
            "left": null,
            "margin": null,
            "max_height": null,
            "max_width": null,
            "min_height": null,
            "min_width": null,
            "object_fit": null,
            "object_position": null,
            "order": null,
            "overflow": null,
            "overflow_x": null,
            "overflow_y": null,
            "padding": null,
            "right": null,
            "top": null,
            "visibility": null,
            "width": null
          }
        },
        "6720c39bda6141c58b7c6294f9b7dd5b": {
          "model_module": "@jupyter-widgets/controls",
          "model_name": "ProgressStyleModel",
          "model_module_version": "1.5.0",
          "state": {
            "_model_module": "@jupyter-widgets/controls",
            "_model_module_version": "1.5.0",
            "_model_name": "ProgressStyleModel",
            "_view_count": null,
            "_view_module": "@jupyter-widgets/base",
            "_view_module_version": "1.2.0",
            "_view_name": "StyleView",
            "bar_color": null,
            "description_width": ""
          }
        },
        "7378d28ffe994b1f9c5c9bb52a6d9317": {
          "model_module": "@jupyter-widgets/base",
          "model_name": "LayoutModel",
          "model_module_version": "1.2.0",
          "state": {
            "_model_module": "@jupyter-widgets/base",
            "_model_module_version": "1.2.0",
            "_model_name": "LayoutModel",
            "_view_count": null,
            "_view_module": "@jupyter-widgets/base",
            "_view_module_version": "1.2.0",
            "_view_name": "LayoutView",
            "align_content": null,
            "align_items": null,
            "align_self": null,
            "border": null,
            "bottom": null,
            "display": null,
            "flex": null,
            "flex_flow": null,
            "grid_area": null,
            "grid_auto_columns": null,
            "grid_auto_flow": null,
            "grid_auto_rows": null,
            "grid_column": null,
            "grid_gap": null,
            "grid_row": null,
            "grid_template_areas": null,
            "grid_template_columns": null,
            "grid_template_rows": null,
            "height": null,
            "justify_content": null,
            "justify_items": null,
            "left": null,
            "margin": null,
            "max_height": null,
            "max_width": null,
            "min_height": null,
            "min_width": null,
            "object_fit": null,
            "object_position": null,
            "order": null,
            "overflow": null,
            "overflow_x": null,
            "overflow_y": null,
            "padding": null,
            "right": null,
            "top": null,
            "visibility": null,
            "width": null
          }
        },
        "49295b520b864c1fa574e437b21691a2": {
          "model_module": "@jupyter-widgets/controls",
          "model_name": "DescriptionStyleModel",
          "model_module_version": "1.5.0",
          "state": {
            "_model_module": "@jupyter-widgets/controls",
            "_model_module_version": "1.5.0",
            "_model_name": "DescriptionStyleModel",
            "_view_count": null,
            "_view_module": "@jupyter-widgets/base",
            "_view_module_version": "1.2.0",
            "_view_name": "StyleView",
            "description_width": ""
          }
        },
        "ae45b79eb41a4248a098a2ffe54097fe": {
          "model_module": "@jupyter-widgets/controls",
          "model_name": "HBoxModel",
          "model_module_version": "1.5.0",
          "state": {
            "_dom_classes": [],
            "_model_module": "@jupyter-widgets/controls",
            "_model_module_version": "1.5.0",
            "_model_name": "HBoxModel",
            "_view_count": null,
            "_view_module": "@jupyter-widgets/controls",
            "_view_module_version": "1.5.0",
            "_view_name": "HBoxView",
            "box_style": "",
            "children": [
              "IPY_MODEL_87231f4928fd4292917554facbe98769",
              "IPY_MODEL_fab723a5b57249a79b725304676431b2",
              "IPY_MODEL_4587618b259d412687c0c0426420536a"
            ],
            "layout": "IPY_MODEL_0edd6c4f1f73497398941dcf326e40b5"
          }
        },
        "87231f4928fd4292917554facbe98769": {
          "model_module": "@jupyter-widgets/controls",
          "model_name": "HTMLModel",
          "model_module_version": "1.5.0",
          "state": {
            "_dom_classes": [],
            "_model_module": "@jupyter-widgets/controls",
            "_model_module_version": "1.5.0",
            "_model_name": "HTMLModel",
            "_view_count": null,
            "_view_module": "@jupyter-widgets/controls",
            "_view_module_version": "1.5.0",
            "_view_name": "HTMLView",
            "description": "",
            "description_tooltip": null,
            "layout": "IPY_MODEL_a29e05247314467794c6cafdf1b5458a",
            "placeholder": "​",
            "style": "IPY_MODEL_a715b881299e4d51858fd64312a83d78",
            "value": "config.json: 100%"
          }
        },
        "fab723a5b57249a79b725304676431b2": {
          "model_module": "@jupyter-widgets/controls",
          "model_name": "FloatProgressModel",
          "model_module_version": "1.5.0",
          "state": {
            "_dom_classes": [],
            "_model_module": "@jupyter-widgets/controls",
            "_model_module_version": "1.5.0",
            "_model_name": "FloatProgressModel",
            "_view_count": null,
            "_view_module": "@jupyter-widgets/controls",
            "_view_module_version": "1.5.0",
            "_view_name": "ProgressView",
            "bar_style": "success",
            "description": "",
            "description_tooltip": null,
            "layout": "IPY_MODEL_8587efc2da144194b398982c752f909c",
            "max": 571,
            "min": 0,
            "orientation": "horizontal",
            "style": "IPY_MODEL_be659cfa0019443bb7c1719a3b39646b",
            "value": 571
          }
        },
        "4587618b259d412687c0c0426420536a": {
          "model_module": "@jupyter-widgets/controls",
          "model_name": "HTMLModel",
          "model_module_version": "1.5.0",
          "state": {
            "_dom_classes": [],
            "_model_module": "@jupyter-widgets/controls",
            "_model_module_version": "1.5.0",
            "_model_name": "HTMLModel",
            "_view_count": null,
            "_view_module": "@jupyter-widgets/controls",
            "_view_module_version": "1.5.0",
            "_view_name": "HTMLView",
            "description": "",
            "description_tooltip": null,
            "layout": "IPY_MODEL_decd216f86d144b89a63b2e8e03ffa3d",
            "placeholder": "​",
            "style": "IPY_MODEL_7df7f0d93cb94273a5cb6e8c77effb14",
            "value": " 571/571 [00:00&lt;00:00, 12.1kB/s]"
          }
        },
        "0edd6c4f1f73497398941dcf326e40b5": {
          "model_module": "@jupyter-widgets/base",
          "model_name": "LayoutModel",
          "model_module_version": "1.2.0",
          "state": {
            "_model_module": "@jupyter-widgets/base",
            "_model_module_version": "1.2.0",
            "_model_name": "LayoutModel",
            "_view_count": null,
            "_view_module": "@jupyter-widgets/base",
            "_view_module_version": "1.2.0",
            "_view_name": "LayoutView",
            "align_content": null,
            "align_items": null,
            "align_self": null,
            "border": null,
            "bottom": null,
            "display": null,
            "flex": null,
            "flex_flow": null,
            "grid_area": null,
            "grid_auto_columns": null,
            "grid_auto_flow": null,
            "grid_auto_rows": null,
            "grid_column": null,
            "grid_gap": null,
            "grid_row": null,
            "grid_template_areas": null,
            "grid_template_columns": null,
            "grid_template_rows": null,
            "height": null,
            "justify_content": null,
            "justify_items": null,
            "left": null,
            "margin": null,
            "max_height": null,
            "max_width": null,
            "min_height": null,
            "min_width": null,
            "object_fit": null,
            "object_position": null,
            "order": null,
            "overflow": null,
            "overflow_x": null,
            "overflow_y": null,
            "padding": null,
            "right": null,
            "top": null,
            "visibility": null,
            "width": null
          }
        },
        "a29e05247314467794c6cafdf1b5458a": {
          "model_module": "@jupyter-widgets/base",
          "model_name": "LayoutModel",
          "model_module_version": "1.2.0",
          "state": {
            "_model_module": "@jupyter-widgets/base",
            "_model_module_version": "1.2.0",
            "_model_name": "LayoutModel",
            "_view_count": null,
            "_view_module": "@jupyter-widgets/base",
            "_view_module_version": "1.2.0",
            "_view_name": "LayoutView",
            "align_content": null,
            "align_items": null,
            "align_self": null,
            "border": null,
            "bottom": null,
            "display": null,
            "flex": null,
            "flex_flow": null,
            "grid_area": null,
            "grid_auto_columns": null,
            "grid_auto_flow": null,
            "grid_auto_rows": null,
            "grid_column": null,
            "grid_gap": null,
            "grid_row": null,
            "grid_template_areas": null,
            "grid_template_columns": null,
            "grid_template_rows": null,
            "height": null,
            "justify_content": null,
            "justify_items": null,
            "left": null,
            "margin": null,
            "max_height": null,
            "max_width": null,
            "min_height": null,
            "min_width": null,
            "object_fit": null,
            "object_position": null,
            "order": null,
            "overflow": null,
            "overflow_x": null,
            "overflow_y": null,
            "padding": null,
            "right": null,
            "top": null,
            "visibility": null,
            "width": null
          }
        },
        "a715b881299e4d51858fd64312a83d78": {
          "model_module": "@jupyter-widgets/controls",
          "model_name": "DescriptionStyleModel",
          "model_module_version": "1.5.0",
          "state": {
            "_model_module": "@jupyter-widgets/controls",
            "_model_module_version": "1.5.0",
            "_model_name": "DescriptionStyleModel",
            "_view_count": null,
            "_view_module": "@jupyter-widgets/base",
            "_view_module_version": "1.2.0",
            "_view_name": "StyleView",
            "description_width": ""
          }
        },
        "8587efc2da144194b398982c752f909c": {
          "model_module": "@jupyter-widgets/base",
          "model_name": "LayoutModel",
          "model_module_version": "1.2.0",
          "state": {
            "_model_module": "@jupyter-widgets/base",
            "_model_module_version": "1.2.0",
            "_model_name": "LayoutModel",
            "_view_count": null,
            "_view_module": "@jupyter-widgets/base",
            "_view_module_version": "1.2.0",
            "_view_name": "LayoutView",
            "align_content": null,
            "align_items": null,
            "align_self": null,
            "border": null,
            "bottom": null,
            "display": null,
            "flex": null,
            "flex_flow": null,
            "grid_area": null,
            "grid_auto_columns": null,
            "grid_auto_flow": null,
            "grid_auto_rows": null,
            "grid_column": null,
            "grid_gap": null,
            "grid_row": null,
            "grid_template_areas": null,
            "grid_template_columns": null,
            "grid_template_rows": null,
            "height": null,
            "justify_content": null,
            "justify_items": null,
            "left": null,
            "margin": null,
            "max_height": null,
            "max_width": null,
            "min_height": null,
            "min_width": null,
            "object_fit": null,
            "object_position": null,
            "order": null,
            "overflow": null,
            "overflow_x": null,
            "overflow_y": null,
            "padding": null,
            "right": null,
            "top": null,
            "visibility": null,
            "width": null
          }
        },
        "be659cfa0019443bb7c1719a3b39646b": {
          "model_module": "@jupyter-widgets/controls",
          "model_name": "ProgressStyleModel",
          "model_module_version": "1.5.0",
          "state": {
            "_model_module": "@jupyter-widgets/controls",
            "_model_module_version": "1.5.0",
            "_model_name": "ProgressStyleModel",
            "_view_count": null,
            "_view_module": "@jupyter-widgets/base",
            "_view_module_version": "1.2.0",
            "_view_name": "StyleView",
            "bar_color": null,
            "description_width": ""
          }
        },
        "decd216f86d144b89a63b2e8e03ffa3d": {
          "model_module": "@jupyter-widgets/base",
          "model_name": "LayoutModel",
          "model_module_version": "1.2.0",
          "state": {
            "_model_module": "@jupyter-widgets/base",
            "_model_module_version": "1.2.0",
            "_model_name": "LayoutModel",
            "_view_count": null,
            "_view_module": "@jupyter-widgets/base",
            "_view_module_version": "1.2.0",
            "_view_name": "LayoutView",
            "align_content": null,
            "align_items": null,
            "align_self": null,
            "border": null,
            "bottom": null,
            "display": null,
            "flex": null,
            "flex_flow": null,
            "grid_area": null,
            "grid_auto_columns": null,
            "grid_auto_flow": null,
            "grid_auto_rows": null,
            "grid_column": null,
            "grid_gap": null,
            "grid_row": null,
            "grid_template_areas": null,
            "grid_template_columns": null,
            "grid_template_rows": null,
            "height": null,
            "justify_content": null,
            "justify_items": null,
            "left": null,
            "margin": null,
            "max_height": null,
            "max_width": null,
            "min_height": null,
            "min_width": null,
            "object_fit": null,
            "object_position": null,
            "order": null,
            "overflow": null,
            "overflow_x": null,
            "overflow_y": null,
            "padding": null,
            "right": null,
            "top": null,
            "visibility": null,
            "width": null
          }
        },
        "7df7f0d93cb94273a5cb6e8c77effb14": {
          "model_module": "@jupyter-widgets/controls",
          "model_name": "DescriptionStyleModel",
          "model_module_version": "1.5.0",
          "state": {
            "_model_module": "@jupyter-widgets/controls",
            "_model_module_version": "1.5.0",
            "_model_name": "DescriptionStyleModel",
            "_view_count": null,
            "_view_module": "@jupyter-widgets/base",
            "_view_module_version": "1.2.0",
            "_view_name": "StyleView",
            "description_width": ""
          }
        },
        "2364250b4c8d41a69e8357385ac282f0": {
          "model_module": "@jupyter-widgets/controls",
          "model_name": "HBoxModel",
          "model_module_version": "1.5.0",
          "state": {
            "_dom_classes": [],
            "_model_module": "@jupyter-widgets/controls",
            "_model_module_version": "1.5.0",
            "_model_name": "HBoxModel",
            "_view_count": null,
            "_view_module": "@jupyter-widgets/controls",
            "_view_module_version": "1.5.0",
            "_view_name": "HBoxView",
            "box_style": "",
            "children": [
              "IPY_MODEL_768738c0a2bb4c92b8e3c01655ab5f58",
              "IPY_MODEL_444659bb3bf34228b238d8dddeb2db84",
              "IPY_MODEL_d162c350a596446f93efafef74afb07a"
            ],
            "layout": "IPY_MODEL_4709f269843c4e04a71292f16ced5f4e"
          }
        },
        "768738c0a2bb4c92b8e3c01655ab5f58": {
          "model_module": "@jupyter-widgets/controls",
          "model_name": "HTMLModel",
          "model_module_version": "1.5.0",
          "state": {
            "_dom_classes": [],
            "_model_module": "@jupyter-widgets/controls",
            "_model_module_version": "1.5.0",
            "_model_name": "HTMLModel",
            "_view_count": null,
            "_view_module": "@jupyter-widgets/controls",
            "_view_module_version": "1.5.0",
            "_view_name": "HTMLView",
            "description": "",
            "description_tooltip": null,
            "layout": "IPY_MODEL_6b3181141ecf4929859da8370e91a31c",
            "placeholder": "​",
            "style": "IPY_MODEL_127d25996967417abee5b602c9419bc5",
            "value": "model.safetensors: 100%"
          }
        },
        "444659bb3bf34228b238d8dddeb2db84": {
          "model_module": "@jupyter-widgets/controls",
          "model_name": "FloatProgressModel",
          "model_module_version": "1.5.0",
          "state": {
            "_dom_classes": [],
            "_model_module": "@jupyter-widgets/controls",
            "_model_module_version": "1.5.0",
            "_model_name": "FloatProgressModel",
            "_view_count": null,
            "_view_module": "@jupyter-widgets/controls",
            "_view_module_version": "1.5.0",
            "_view_name": "ProgressView",
            "bar_style": "success",
            "description": "",
            "description_tooltip": null,
            "layout": "IPY_MODEL_d7c29783af7343b2afc75ec615689ed5",
            "max": 1344951957,
            "min": 0,
            "orientation": "horizontal",
            "style": "IPY_MODEL_b5bd2ee42d174fada5c9be06da4bbe80",
            "value": 1344951957
          }
        },
        "d162c350a596446f93efafef74afb07a": {
          "model_module": "@jupyter-widgets/controls",
          "model_name": "HTMLModel",
          "model_module_version": "1.5.0",
          "state": {
            "_dom_classes": [],
            "_model_module": "@jupyter-widgets/controls",
            "_model_module_version": "1.5.0",
            "_model_name": "HTMLModel",
            "_view_count": null,
            "_view_module": "@jupyter-widgets/controls",
            "_view_module_version": "1.5.0",
            "_view_name": "HTMLView",
            "description": "",
            "description_tooltip": null,
            "layout": "IPY_MODEL_ed0f625db8fc44d1b29866c3cc49a85b",
            "placeholder": "​",
            "style": "IPY_MODEL_d20fec2ccbad4efd98346aa5b3dd810a",
            "value": " 1.34G/1.34G [00:16&lt;00:00, 41.2MB/s]"
          }
        },
        "4709f269843c4e04a71292f16ced5f4e": {
          "model_module": "@jupyter-widgets/base",
          "model_name": "LayoutModel",
          "model_module_version": "1.2.0",
          "state": {
            "_model_module": "@jupyter-widgets/base",
            "_model_module_version": "1.2.0",
            "_model_name": "LayoutModel",
            "_view_count": null,
            "_view_module": "@jupyter-widgets/base",
            "_view_module_version": "1.2.0",
            "_view_name": "LayoutView",
            "align_content": null,
            "align_items": null,
            "align_self": null,
            "border": null,
            "bottom": null,
            "display": null,
            "flex": null,
            "flex_flow": null,
            "grid_area": null,
            "grid_auto_columns": null,
            "grid_auto_flow": null,
            "grid_auto_rows": null,
            "grid_column": null,
            "grid_gap": null,
            "grid_row": null,
            "grid_template_areas": null,
            "grid_template_columns": null,
            "grid_template_rows": null,
            "height": null,
            "justify_content": null,
            "justify_items": null,
            "left": null,
            "margin": null,
            "max_height": null,
            "max_width": null,
            "min_height": null,
            "min_width": null,
            "object_fit": null,
            "object_position": null,
            "order": null,
            "overflow": null,
            "overflow_x": null,
            "overflow_y": null,
            "padding": null,
            "right": null,
            "top": null,
            "visibility": null,
            "width": null
          }
        },
        "6b3181141ecf4929859da8370e91a31c": {
          "model_module": "@jupyter-widgets/base",
          "model_name": "LayoutModel",
          "model_module_version": "1.2.0",
          "state": {
            "_model_module": "@jupyter-widgets/base",
            "_model_module_version": "1.2.0",
            "_model_name": "LayoutModel",
            "_view_count": null,
            "_view_module": "@jupyter-widgets/base",
            "_view_module_version": "1.2.0",
            "_view_name": "LayoutView",
            "align_content": null,
            "align_items": null,
            "align_self": null,
            "border": null,
            "bottom": null,
            "display": null,
            "flex": null,
            "flex_flow": null,
            "grid_area": null,
            "grid_auto_columns": null,
            "grid_auto_flow": null,
            "grid_auto_rows": null,
            "grid_column": null,
            "grid_gap": null,
            "grid_row": null,
            "grid_template_areas": null,
            "grid_template_columns": null,
            "grid_template_rows": null,
            "height": null,
            "justify_content": null,
            "justify_items": null,
            "left": null,
            "margin": null,
            "max_height": null,
            "max_width": null,
            "min_height": null,
            "min_width": null,
            "object_fit": null,
            "object_position": null,
            "order": null,
            "overflow": null,
            "overflow_x": null,
            "overflow_y": null,
            "padding": null,
            "right": null,
            "top": null,
            "visibility": null,
            "width": null
          }
        },
        "127d25996967417abee5b602c9419bc5": {
          "model_module": "@jupyter-widgets/controls",
          "model_name": "DescriptionStyleModel",
          "model_module_version": "1.5.0",
          "state": {
            "_model_module": "@jupyter-widgets/controls",
            "_model_module_version": "1.5.0",
            "_model_name": "DescriptionStyleModel",
            "_view_count": null,
            "_view_module": "@jupyter-widgets/base",
            "_view_module_version": "1.2.0",
            "_view_name": "StyleView",
            "description_width": ""
          }
        },
        "d7c29783af7343b2afc75ec615689ed5": {
          "model_module": "@jupyter-widgets/base",
          "model_name": "LayoutModel",
          "model_module_version": "1.2.0",
          "state": {
            "_model_module": "@jupyter-widgets/base",
            "_model_module_version": "1.2.0",
            "_model_name": "LayoutModel",
            "_view_count": null,
            "_view_module": "@jupyter-widgets/base",
            "_view_module_version": "1.2.0",
            "_view_name": "LayoutView",
            "align_content": null,
            "align_items": null,
            "align_self": null,
            "border": null,
            "bottom": null,
            "display": null,
            "flex": null,
            "flex_flow": null,
            "grid_area": null,
            "grid_auto_columns": null,
            "grid_auto_flow": null,
            "grid_auto_rows": null,
            "grid_column": null,
            "grid_gap": null,
            "grid_row": null,
            "grid_template_areas": null,
            "grid_template_columns": null,
            "grid_template_rows": null,
            "height": null,
            "justify_content": null,
            "justify_items": null,
            "left": null,
            "margin": null,
            "max_height": null,
            "max_width": null,
            "min_height": null,
            "min_width": null,
            "object_fit": null,
            "object_position": null,
            "order": null,
            "overflow": null,
            "overflow_x": null,
            "overflow_y": null,
            "padding": null,
            "right": null,
            "top": null,
            "visibility": null,
            "width": null
          }
        },
        "b5bd2ee42d174fada5c9be06da4bbe80": {
          "model_module": "@jupyter-widgets/controls",
          "model_name": "ProgressStyleModel",
          "model_module_version": "1.5.0",
          "state": {
            "_model_module": "@jupyter-widgets/controls",
            "_model_module_version": "1.5.0",
            "_model_name": "ProgressStyleModel",
            "_view_count": null,
            "_view_module": "@jupyter-widgets/base",
            "_view_module_version": "1.2.0",
            "_view_name": "StyleView",
            "bar_color": null,
            "description_width": ""
          }
        },
        "ed0f625db8fc44d1b29866c3cc49a85b": {
          "model_module": "@jupyter-widgets/base",
          "model_name": "LayoutModel",
          "model_module_version": "1.2.0",
          "state": {
            "_model_module": "@jupyter-widgets/base",
            "_model_module_version": "1.2.0",
            "_model_name": "LayoutModel",
            "_view_count": null,
            "_view_module": "@jupyter-widgets/base",
            "_view_module_version": "1.2.0",
            "_view_name": "LayoutView",
            "align_content": null,
            "align_items": null,
            "align_self": null,
            "border": null,
            "bottom": null,
            "display": null,
            "flex": null,
            "flex_flow": null,
            "grid_area": null,
            "grid_auto_columns": null,
            "grid_auto_flow": null,
            "grid_auto_rows": null,
            "grid_column": null,
            "grid_gap": null,
            "grid_row": null,
            "grid_template_areas": null,
            "grid_template_columns": null,
            "grid_template_rows": null,
            "height": null,
            "justify_content": null,
            "justify_items": null,
            "left": null,
            "margin": null,
            "max_height": null,
            "max_width": null,
            "min_height": null,
            "min_width": null,
            "object_fit": null,
            "object_position": null,
            "order": null,
            "overflow": null,
            "overflow_x": null,
            "overflow_y": null,
            "padding": null,
            "right": null,
            "top": null,
            "visibility": null,
            "width": null
          }
        },
        "d20fec2ccbad4efd98346aa5b3dd810a": {
          "model_module": "@jupyter-widgets/controls",
          "model_name": "DescriptionStyleModel",
          "model_module_version": "1.5.0",
          "state": {
            "_model_module": "@jupyter-widgets/controls",
            "_model_module_version": "1.5.0",
            "_model_name": "DescriptionStyleModel",
            "_view_count": null,
            "_view_module": "@jupyter-widgets/base",
            "_view_module_version": "1.2.0",
            "_view_name": "StyleView",
            "description_width": ""
          }
        }
      }
    }
  },
  "nbformat": 4,
  "nbformat_minor": 0
}